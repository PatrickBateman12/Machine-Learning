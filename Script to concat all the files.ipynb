{
 "cells": [
  {
   "cell_type": "markdown",
   "id": "37c9a449",
   "metadata": {},
   "source": [
    "#### Remember to change directory and specify path when concating the files"
   ]
  },
  {
   "cell_type": "code",
   "execution_count": null,
   "id": "ce21f9be",
   "metadata": {},
   "outputs": [],
   "source": [
    "import os\n",
    "import pandas as pd"
   ]
  },
  {
   "cell_type": "markdown",
   "id": "eec789c4",
   "metadata": {},
   "source": [
    "### Concatenate the csv files with only including float64 and int64"
   ]
  },
  {
   "cell_type": "code",
   "execution_count": 2,
   "id": "7235292b",
   "metadata": {},
   "outputs": [],
   "source": [
    "def process_and_concat_csv_files(folder_name):\n",
    "    csv_files = [f for f in os.listdir(folder_name) if f.endswith(\".csv\")]\n",
    "\n",
    "    dfs = []\n",
    "    last_sim_id = 0\n",
    "    for file in csv_files:\n",
    "        df = pd.read_csv(os.path.join(folder_name, file))\n",
    "\n",
    "        # Drop columns with data types other than int64 and float64\n",
    "        df = df.select_dtypes(include=['int64', 'float64'])\n",
    "\n",
    "        if len(str(df.iloc[0]['sim_ID'])) != len(str(df.iloc[-1]['sim_ID'])):\n",
    "            df = df[df['sim_ID'] != df.iloc[-1]['sim_ID']]\n",
    "\n",
    "        df['sim_ID'] += last_sim_id\n",
    "        last_sim_id = df.iloc[-1]['sim_ID']\n",
    "\n",
    "        dfs.append(df)\n",
    "\n",
    "    return pd.concat(dfs, ignore_index=True)\n",
    "\n",
    "folder_name = \"Results Normal\"\n",
    "concatenated_df = process_and_concat_csv_files(folder_name)\n",
    "\n",
    "output_folder = \"ConcatenatedResults\"\n",
    "os.makedirs(output_folder, exist_ok=True)\n",
    "concatenated_df.to_csv(os.path.join(output_folder, \"concatenated_results.csv\"), index=False)"
   ]
  },
  {
   "cell_type": "markdown",
   "id": "d9b42fd3",
   "metadata": {},
   "source": [
    "### Concatenate the csv files with all types"
   ]
  },
  {
   "cell_type": "code",
   "execution_count": 1,
   "id": "746b5ada",
   "metadata": {},
   "outputs": [],
   "source": [
    "def process_and_concat_csv_files(folder_name):\n",
    "    csv_files = [f for f in os.listdir(folder_name) if f.endswith(\".csv\")]\n",
    "\n",
    "    dfs = []\n",
    "    last_sim_id = 0\n",
    "    for file in csv_files:\n",
    "        file_path = os.path.join(folder_name, file)\n",
    "        df = pd.read_csv(file_path)\n",
    "        \n",
    "        first_sim_id = df.loc[0, 'sim_ID']\n",
    "        last_row_sim_id = df.loc[df.index[-1], 'sim_ID']\n",
    "        \n",
    "        if len(str(first_sim_id)) != len(str(last_row_sim_id)):\n",
    "            df = df[df['sim_ID'] != last_row_sim_id]\n",
    "\n",
    "        df['sim_ID'] = df['sim_ID'].apply(lambda x: x + last_sim_id)\n",
    "        last_sim_id = df.loc[df.index[-1], 'sim_ID']\n",
    "        \n",
    "        dfs.append(df)\n",
    "\n",
    "    concatenated_df = pd.concat(dfs, ignore_index=True)\n",
    "    return concatenated_df\n",
    "\n",
    "folder_name = \"Results\"\n",
    "concatenated_df = process_and_concat_csv_files(folder_name)\n",
    "\n",
    "output_folder = \"ConcatenatedResults\"\n",
    "os.makedirs(output_folder, exist_ok=True)\n",
    "concatenated_df.to_csv(os.path.join(output_folder, \"concatenated_results_without_removing.csv\"), index=False)"
   ]
  }
 ],
 "metadata": {
  "kernelspec": {
   "display_name": "Python 3 (ipykernel)",
   "language": "python",
   "name": "python3"
  },
  "language_info": {
   "codemirror_mode": {
    "name": "ipython",
    "version": 3
   },
   "file_extension": ".py",
   "mimetype": "text/x-python",
   "name": "python",
   "nbconvert_exporter": "python",
   "pygments_lexer": "ipython3",
   "version": "3.10.9"
  }
 },
 "nbformat": 4,
 "nbformat_minor": 5
}
