{
 "cells": [
  {
   "cell_type": "markdown",
   "id": "55ec1280",
   "metadata": {},
   "source": [
    "## Machine Learning using LSTM on Split 3"
   ]
  },
  {
   "cell_type": "code",
   "execution_count": 1,
   "id": "83d58314",
   "metadata": {},
   "outputs": [],
   "source": [
    "# Warnings are provided to warn the developer of situations that aren’t necessarily exceptions. \n",
    "#Usually, a warning occurs when there is some obsolete of certain programming elements.\n",
    "#Python program terminates immediately if an error occurs. Conversely, a warning is not critical.\n",
    "\n",
    "import warnings\n",
    "warnings.filterwarnings('ignore')"
   ]
  },
  {
   "cell_type": "code",
   "execution_count": 2,
   "id": "9d98900a",
   "metadata": {},
   "outputs": [
    {
     "name": "stderr",
     "output_type": "stream",
     "text": [
      "2023-05-25 15:40:55.314857: I tensorflow/core/platform/cpu_feature_guard.cc:193] This TensorFlow binary is optimized with oneAPI Deep Neural Network Library (oneDNN) to use the following CPU instructions in performance-critical operations:  AVX2 FMA\n",
      "To enable them in other operations, rebuild TensorFlow with the appropriate compiler flags.\n"
     ]
    }
   ],
   "source": [
    "import numpy as np\n",
    "import tensorflow as tf\n",
    "from tensorflow.keras.models import Sequential\n",
    "from tensorflow.keras.layers import LSTM, Dense, Dropout\n",
    "from sklearn.metrics import mean_absolute_error, mean_squared_error\n",
    "from tensorflow.keras.models import load_model\n",
    "import matplotlib.pyplot as plt\n",
    "import seaborn as sns\n",
    "import matplotlib as mpl\n",
    "import matplotlib.colors as mcolors\n",
    "from sklearn.metrics import mean_squared_error, mean_absolute_error, r2_score\n",
    "from math import sqrt"
   ]
  },
  {
   "cell_type": "markdown",
   "id": "7b9f6580",
   "metadata": {},
   "source": [
    "### Importing the stored components"
   ]
  },
  {
   "cell_type": "code",
   "execution_count": 3,
   "id": "2b7f6699",
   "metadata": {},
   "outputs": [],
   "source": [
    "%store -r scaler\n",
    "%store -r input_col1\n",
    "input_col = input_col1\n",
    "%store -r target_col1\n",
    "target_col = target_col1"
   ]
  },
  {
   "cell_type": "code",
   "execution_count": 4,
   "id": "0c20a188",
   "metadata": {},
   "outputs": [],
   "source": [
    "# Retrieve stored variables\n",
    "%store -r x_train1\n",
    "x_train = x_train1\n",
    "\n",
    "%store -r y_train1\n",
    "y_train = y_train1\n",
    "\n",
    "%store -r x_val1\n",
    "x_val = x_val1\n",
    "\n",
    "%store -r y_val1\n",
    "y_val = y_val1\n",
    "\n",
    "%store -r x_test1\n",
    "x_test = x_test1\n",
    "\n",
    "%store -r y_test1\n",
    "y_test = y_test1"
   ]
  },
  {
   "cell_type": "markdown",
   "id": "b6882907",
   "metadata": {},
   "source": [
    "### Creating sequences for the training set, validation set and test set to fit into the LSTM"
   ]
  },
  {
   "cell_type": "code",
   "execution_count": 5,
   "id": "c5845335",
   "metadata": {},
   "outputs": [],
   "source": [
    "def create_sequences(data, target, seq_length, output_steps):\n",
    "    X = []\n",
    "    y = []\n",
    "\n",
    "    for i in range(data.shape[0] - seq_length - output_steps + 1):\n",
    "        seq = data[i:i + seq_length]\n",
    "        X.append(seq)\n",
    "        y.append(target[i + seq_length:i + seq_length + output_steps])\n",
    "\n",
    "    return np.array(X), np.array(y)\n",
    "\n",
    "sequence_length = 50\n",
    "output_steps = 1\n",
    "\n",
    "X_train_seq, y_train_seq = create_sequences(x_train, y_train, sequence_length, output_steps)\n",
    "X_val_seq, y_val_seq = create_sequences(x_val, y_val, sequence_length, output_steps)\n",
    "X_test_seq, y_test_seq = create_sequences(x_test, y_test, sequence_length, output_steps)"
   ]
  },
  {
   "cell_type": "markdown",
   "id": "cf36b131",
   "metadata": {},
   "source": [
    "#### Layers of the LSTM Model"
   ]
  },
  {
   "cell_type": "code",
   "execution_count": null,
   "id": "51103d03",
   "metadata": {},
   "outputs": [],
   "source": [
    "n_features = X_train_seq.shape[2]\n",
    "\n",
    "model = Sequential()\n",
    "\n",
    "model.add(LSTM(50, activation='relu', input_shape=(sequence_length, n_features), return_sequences=True))\n",
    "model.add(Dropout(0.2))\n",
    "\n",
    "model.add(LSTM(50, activation='relu', return_sequences=True))\n",
    "model.add(Dropout(0.2))\n",
    "\n",
    "model.add(LSTM(50, activation='relu'))\n",
    "model.add(Dropout(0.2))\n",
    "\n",
    "model.add(Dense(output_steps))"
   ]
  },
  {
   "cell_type": "markdown",
   "id": "f378eace",
   "metadata": {},
   "source": [
    "### Summary of the LSTM Model"
   ]
  },
  {
   "cell_type": "code",
   "execution_count": null,
   "id": "26fa4267",
   "metadata": {
    "scrolled": false
   },
   "outputs": [],
   "source": [
    "model.summary()"
   ]
  },
  {
   "cell_type": "markdown",
   "id": "890d7e17",
   "metadata": {},
   "source": [
    "### This will run the number of epochs"
   ]
  },
  {
   "cell_type": "code",
   "execution_count": null,
   "id": "e9ed378b",
   "metadata": {},
   "outputs": [],
   "source": [
    "model.compile(optimizer='adam', loss='mse')\n",
    "\n",
    "history = model.fit(\n",
    "    X_train_seq, y_train_seq,\n",
    "    epochs=10,\n",
    "    batch_size=64,\n",
    "    validation_data=(X_val_seq, y_val_seq),\n",
    "    verbose=1\n",
    ")\n"
   ]
  },
  {
   "cell_type": "code",
   "execution_count": null,
   "id": "462d2beb",
   "metadata": {},
   "outputs": [],
   "source": [
    "model.save('LSTM Train Split 3.h5')"
   ]
  },
  {
   "cell_type": "markdown",
   "id": "96ff5761",
   "metadata": {},
   "source": [
    "### Saving in order to skip the time consuming training"
   ]
  },
  {
   "cell_type": "code",
   "execution_count": 30,
   "id": "e99093c6",
   "metadata": {},
   "outputs": [],
   "source": [
    "loaded_model = load_model('LSTM Train Split 3.h5')"
   ]
  },
  {
   "cell_type": "markdown",
   "id": "1d9123e4",
   "metadata": {},
   "source": [
    "### Predict the validation set and calculate the error metrics and r^2 score"
   ]
  },
  {
   "cell_type": "code",
   "execution_count": 10,
   "id": "5cca1ba2",
   "metadata": {
    "scrolled": true
   },
   "outputs": [
    {
     "name": "stdout",
     "output_type": "stream",
     "text": [
      "997/997 [==============================] - 11s 11ms/step\n",
      "Validation MSE: 0.0009052008514224118\n",
      "Validation RMSE: 0.03008655599137947\n",
      "Validation MAE: 0.013154182528797489\n",
      "Validation R2 Score: 0.8743595136722888\n"
     ]
    }
   ],
   "source": [
    "# Make predictions using the model\n",
    "y_pred = loaded_model.predict(X_val_seq)\n",
    "\n",
    "# Flatten y_val_seq and y_pred for error calculations\n",
    "y_val_seq_flat = y_val_seq.flatten()\n",
    "y_pred_flat = y_pred.flatten()\n",
    "\n",
    "# Calculate MSE\n",
    "mse = mean_squared_error(y_val_seq_flat, y_pred_flat)\n",
    "\n",
    "# Calculate RMSE\n",
    "rmse = sqrt(mse)\n",
    "\n",
    "# Calculate MAE\n",
    "mae = mean_absolute_error(y_val_seq_flat, y_pred_flat)\n",
    "\n",
    "# Calculate R2 Score\n",
    "r2 = r2_score(y_val_seq_flat, y_pred_flat)\n",
    "\n",
    "print(\"Validation MSE:\", mse)\n",
    "print(\"Validation RMSE:\", rmse)\n",
    "print(\"Validation MAE:\", mae)\n",
    "print(\"Validation R2 Score:\", r2)"
   ]
  },
  {
   "cell_type": "markdown",
   "id": "2ebf2b4d",
   "metadata": {},
   "source": [
    "### Predict the test set and calculate the error metrics and r^2 score"
   ]
  },
  {
   "cell_type": "code",
   "execution_count": 11,
   "id": "19e5c40a",
   "metadata": {},
   "outputs": [
    {
     "name": "stdout",
     "output_type": "stream",
     "text": [
      "1996/1996 [==============================] - 19s 9ms/step - loss: 0.0018\n",
      "Test loss: 0.001751353032886982\n"
     ]
    }
   ],
   "source": [
    "test_loss = loaded_model.evaluate(X_test_seq, y_test_seq)\n",
    "print(f'Test loss: {test_loss}')"
   ]
  },
  {
   "cell_type": "code",
   "execution_count": 12,
   "id": "f8cde2c0",
   "metadata": {},
   "outputs": [
    {
     "name": "stdout",
     "output_type": "stream",
     "text": [
      "1996/1996 [==============================] - 19s 9ms/step\n"
     ]
    }
   ],
   "source": [
    "y_pred = loaded_model.predict(X_test_seq)"
   ]
  },
  {
   "cell_type": "code",
   "execution_count": 13,
   "id": "bd4b1dd4",
   "metadata": {},
   "outputs": [
    {
     "name": "stdout",
     "output_type": "stream",
     "text": [
      "Mean Absolute Error: 0.018462500375784483\n",
      "Mean Squared Error: 0.0017513523771411099\n",
      "Root Mean Squared Error: 0.041849162203574757\n",
      "r2 score: 0.8210180896119608\n"
     ]
    }
   ],
   "source": [
    "# Reshape the predictions and true values to calculate the metrics\n",
    "y_test_reshaped = y_test_seq.reshape(-1)\n",
    "y_pred_reshaped = y_pred.reshape(-1)\n",
    "\n",
    "mae = mean_absolute_error(y_test_reshaped, y_pred_reshaped)\n",
    "mse = mean_squared_error(y_test_reshaped, y_pred_reshaped)\n",
    "rmse = sqrt(mse)\n",
    "r2 = r2_score(y_test_reshaped, y_pred_reshaped)\n",
    "\n",
    "print(f'Mean Absolute Error: {mae}')\n",
    "print(f'Mean Squared Error: {mse}')\n",
    "print(f'Root Mean Squared Error: {rmse}')\n",
    "print(f'r2 score: {r2}')"
   ]
  },
  {
   "cell_type": "markdown",
   "id": "889edc04",
   "metadata": {},
   "source": [
    "### Set True or False to the scaling to see the actual values or the scaled values"
   ]
  },
  {
   "cell_type": "code",
   "execution_count": 15,
   "id": "1b487a3b",
   "metadata": {},
   "outputs": [],
   "source": [
    "def invert_scaling(y_values, scaler, target_index, apply_inverse=True):\n",
    "    if apply_inverse:\n",
    "        # Prepare matrix with zeros to match dimensions\n",
    "        temp_matrix = np.zeros((y_values.shape[0], scaler.n_features_in_))\n",
    "        temp_matrix[:, target_index] = y_values.reshape(-1)\n",
    "        y_values_inverted = scaler.inverse_transform(temp_matrix)[:, target_index]\n",
    "    else:\n",
    "        y_values_inverted = y_values\n",
    "    return y_values_inverted\n",
    "\n",
    "# Set apply_inverse to False if you want scaled values, True if you want real values\n",
    "apply_inverse = False\n",
    "\n",
    "# Assuming your 'DownholePressure' is the 5th column in your dataframe, change this index accordingly\n",
    "target_index = 5\n",
    "\n",
    "# Take the last column of y_pred and y_test_seq\n",
    "y_pred_last_col = y_pred[:, -1]\n",
    "y_test_last_col = y_test_seq[:, -1]\n",
    "\n",
    "y_pred_inverted = invert_scaling(y_pred_last_col, scaler, target_index, apply_inverse)\n",
    "y_test_inverted = invert_scaling(y_test_last_col, scaler, target_index, apply_inverse)"
   ]
  },
  {
   "cell_type": "code",
   "execution_count": 16,
   "id": "a83d2934",
   "metadata": {
    "scrolled": false
   },
   "outputs": [
    {
     "data": {
      "image/png": "[encoded data removed]",
      "text/plain": [
       "<Figure size 1400x600 with 1 Axes>"
      ]
     },
     "metadata": {},
     "output_type": "display_data"
    }
   ],
   "source": [
    "# Select the first 90 steps\n",
    "y_test_inverted_90 = y_test_reshaped[70:190]\n",
    "y_pred_inverted_90 = y_pred_reshaped[70:190]\n",
    "\n",
    "plt.figure(figsize=(14, 6))\n",
    "plt.plot(y_test_inverted_90, label='True Values', alpha=0.7)\n",
    "plt.plot(y_pred_inverted_90, label='Predicted Values', alpha=0.7)\n",
    "plt.xlabel('Timestep (s)')\n",
    "plt.ylabel('Pressure (psi)')\n",
    "plt.title('True vs. Predicted Downhole Pressure (Last 90 Seconds)')\n",
    "plt.legend()\n",
    "plt.show()"
   ]
  },
  {
   "cell_type": "markdown",
   "id": "a4785e12",
   "metadata": {},
   "source": [
    "### Importing new online dataset"
   ]
  },
  {
   "cell_type": "code",
   "execution_count": 23,
   "id": "64d69c29",
   "metadata": {
    "scrolled": false
   },
   "outputs": [],
   "source": [
    "%store -r df_validation1\n",
    "df_validation = df_validation1"
   ]
  },
  {
   "cell_type": "code",
   "execution_count": 24,
   "id": "fe9b4728",
   "metadata": {},
   "outputs": [
    {
     "name": "stdout",
     "output_type": "stream",
     "text": [
      "18/18 [==============================] - 0s 11ms/step\n"
     ]
    }
   ],
   "source": [
    "# 1. Make sure your df_validation only contains the input features\n",
    "X_validation = df_validation[input_col].to_numpy()\n",
    "y_validation = df_validation[target_col].to_numpy()\n",
    "\n",
    "# 2. Create sequences from the scaled validation data\n",
    "sequence_length = 50\n",
    "output_steps = 1  # Add this line if you haven't defined output_steps already\n",
    "X_validation_seq, _ = create_sequences(X_validation, np.zeros(X_validation.shape[0]), sequence_length, output_steps)\n",
    "\n",
    "# 3. Use the LSTM model to predict the DownholePressure values for each sequence\n",
    "y_pred_validation = loaded_model.predict(X_validation_seq)"
   ]
  },
  {
   "cell_type": "code",
   "execution_count": 25,
   "id": "c568f34a",
   "metadata": {},
   "outputs": [
    {
     "name": "stdout",
     "output_type": "stream",
     "text": [
      "MSE: 0.007710859243722273\n",
      "RMSE: 0.08781149835711877\n",
      "MAE: 0.06756953176774111\n",
      "R2 Score: -0.7837799914177472\n"
     ]
    }
   ],
   "source": [
    "# Compute error metrics only for the data points where we have predictions\n",
    "y_validation = y_validation[:len(y_pred_validation)]\n",
    "\n",
    "# Compute MSE\n",
    "mse = mean_squared_error(y_validation, y_pred_validation)\n",
    "\n",
    "# Compute RMSE\n",
    "rmse = np.sqrt(mse)\n",
    "\n",
    "# Compute MAE\n",
    "mae = mean_absolute_error(y_validation, y_pred_validation)\n",
    "\n",
    "# Compute R2 Score\n",
    "r2 = r2_score(y_validation, y_pred_validation)\n",
    "\n",
    "print(\"MSE:\", mse)\n",
    "print(\"RMSE:\", rmse)\n",
    "print(\"MAE:\", mae)\n",
    "print(\"R2 Score:\", r2)"
   ]
  },
  {
   "cell_type": "markdown",
   "id": "2042bc33",
   "metadata": {},
   "source": [
    "### Unscale the values"
   ]
  },
  {
   "cell_type": "code",
   "execution_count": 26,
   "id": "0cab1a12",
   "metadata": {},
   "outputs": [],
   "source": [
    "# 4. Invert the scaling of the predicted DownholePressure values\n",
    "target_index = 5\n",
    "y_pred_validation_last_col = y_pred_validation[:, -1].reshape(-1, 1)\n",
    "y_pred_validation_inverted = scaler.inverse_transform(np.concatenate((np.zeros((y_pred_validation_last_col.shape[0], target_index)), y_pred_validation_last_col, np.zeros((y_pred_validation_last_col.shape[0], scaler.n_features_in_ - target_index - 1))), axis=1))[:, target_index]\n",
    "\n",
    "y_validation = df_validation[target_col].to_numpy()\n",
    "\n",
    "# Invert the scaling of the true DownholePressure values\n",
    "y_validation_last_col = y_validation.reshape(-1, 1)\n",
    "y_validation_inverted = scaler.inverse_transform(np.concatenate((np.zeros((y_validation_last_col.shape[0], target_index)), y_validation_last_col, np.zeros((y_validation_last_col.shape[0], scaler.n_features_in_ - target_index - 1))), axis=1))[:, target_index]\n"
   ]
  },
  {
   "cell_type": "code",
   "execution_count": 28,
   "id": "ab7b718c",
   "metadata": {},
   "outputs": [
    {
     "data": {
      "image/png": "[encoded data removed]",
      "text/plain": [
       "<Figure size 1400x600 with 1 Axes>"
      ]
     },
     "metadata": {},
     "output_type": "display_data"
    }
   ],
   "source": [
    "# Assuming your dataset has a time resolution of 'delta_t' seconds\n",
    "delta_t = 1  # Replace this value with the actual time resolution in seconds\n",
    "\n",
    "# Calculate the number of timesteps corresponding to 90 seconds\n",
    "timesteps_in_90_seconds = int(550 / delta_t)\n",
    "\n",
    "# Calculate the number of sequences corresponding to 90 seconds\n",
    "sequences_in_90_seconds = timesteps_in_90_seconds // output_steps\n",
    "\n",
    "# Select the last 'sequences_in_90_seconds' sequences from y_validation_inverted and y_pred_validation_inverted\n",
    "y_validation_last_90_seconds = y_validation_inverted[-sequences_in_90_seconds * output_steps:]\n",
    "y_pred_validation_last_90_seconds = y_pred_validation_inverted[-sequences_in_90_seconds * output_steps:]\n",
    "\n",
    "# Set the alpha value you want for your gridlines. 1 is opaque, 0 is transparent\n",
    "alpha = 0.3\n",
    "\n",
    "# Get the grid color\n",
    "gridcolor = mpl.rcParams['grid.color']\n",
    "\n",
    "# Convert the grid color to RGBA\n",
    "rgba = mcolors.to_rgba(gridcolor)\n",
    "\n",
    "# Create a new color with the adjusted alpha\n",
    "new_color = (rgba[0], rgba[1], rgba[2], alpha)\n",
    "\n",
    "# Convert the new color back to a hex string\n",
    "new_color_hex = mcolors.to_hex(new_color)\n",
    "\n",
    "# Set the new grid color\n",
    "mpl.rcParams['grid.color'] = new_color_hex\n",
    "\n",
    "sns.set_style(\"whitegrid\")\n",
    "\n",
    "plt.figure(figsize=(14, 6))\n",
    "\n",
    "# Create line plot for true values with thinner line\n",
    "sns.lineplot(data=y_validation_last_90_seconds, label='Actual Downhole Pressure', color='blue', linewidth=1)\n",
    "\n",
    "# Create line plot for predicted values with thinner line\n",
    "sns.lineplot(data=y_pred_validation_last_90_seconds, label='Predicted Downhole Pressure', color='red', linewidth=1, linestyle='--')\n",
    "\n",
    "plt.xlabel('Timesteps (s)', fontsize=14, labelpad=15)\n",
    "plt.ylabel('Pressure (psi)', fontsize=14, labelpad=15)\n",
    "plt.title('Downhole Pressure with Kick, LSTM', fontsize=14, pad=20)\n",
    "plt.legend(fontsize=10)\n",
    "\n",
    "plt.show()"
   ]
  },
  {
   "cell_type": "markdown",
   "id": "f18c5352",
   "metadata": {},
   "source": [
    "### Simple Kick Detection Trend Analysis"
   ]
  },
  {
   "cell_type": "code",
   "execution_count": 29,
   "id": "28e6d92d",
   "metadata": {},
   "outputs": [
    {
     "ename": "SyntaxError",
     "evalue": "invalid syntax (3093702033.py, line 35)",
     "output_type": "error",
     "traceback": [
      "\u001b[0;36m  Cell \u001b[0;32mIn[29], line 35\u001b[0;36m\u001b[0m\n\u001b[0;31m    if y_pred_validation_inverted\u001b[0m\n\u001b[0m                                 ^\u001b[0m\n\u001b[0;31mSyntaxError\u001b[0m\u001b[0;31m:\u001b[0m invalid syntax\n"
     ]
    }
   ],
   "source": [
    "# Set the shift value manually\n",
    "shift_value = 50  # You can adjust this value to properly align the predicted values with the true values\n",
    "\n",
    "# Generate x-axis values for true and predicted values\n",
    "x_true = np.arange(len(y_validation_inverted))\n",
    "x_pred = np.arange(shift_value, shift_value + len(y_pred_validation_inverted))\n",
    "\n",
    "# Calculate the upper and lower bounds with a 1% threshold\n",
    "threshold = 0.01\n",
    "upper_bound = y_pred_validation_inverted * (1 + threshold)\n",
    "lower_bound = y_pred_validation_inverted * (1 - threshold)\n",
    "\n",
    "# Calculate the derivative of the predicted values\n",
    "y_pred_derivative = np.gradient(y_pred_validation_inverted)\n",
    "\n",
    "# Set a threshold for the rate of change\n",
    "roc_threshold = 0.02  # Adjust this value based on your specific use case\n",
    "\n",
    "# Calculate the upper and lower bounds for the rate of change\n",
    "roc_upper_bound = y_pred_derivative * (1 + roc_threshold)\n",
    "roc_lower_bound = y_pred_derivative * (1 - roc_threshold)\n",
    "\n",
    "# Plot the true values\n",
    "plt.figure(figsize=(12, 6))\n",
    "plt.plot(x_true, y_validation_inverted, label='True values', color='blue')\n",
    "\n",
    "# Initialize a variable to keep track of whether a \"KICK\" sign has been added to the plot\n",
    "kick_added = False\n",
    "\n",
    "# Fill the entire plot area with green\n",
    "plt.axvspan(0, len(x_true), facecolor='green', alpha=0.2)\n",
    "\n",
    "# Fill the plot area with red when the predicted values cross the band or the rate of change threshold\n",
    "for i in range(shift_value, len(x_pred) + shift_value):\n",
    "    if y_pred_validation_inverted\n",
    "        if y_pred_validation_inverted[i] > upper_bound[i - shift_value] or y_pred_validation_inverted[i] < lower_bound[i - shift_value] or y_pred_derivative[i - shift_value] > roc_upper_bound[i - shift_value] or y_pred_derivative[i - shift_value] < roc_lower_bound[i - shift_value]:\n",
    "        plt.axvspan(i, i + 1, facecolor='red', alpha=0.2)\n",
    "        if not kick_added:\n",
    "            plt.text(i, y_pred_validation_inverted[i - shift_value] + 0.1, 'KICK')\n",
    "            kick_added = True\n",
    "\n",
    "# Plot the predicted values without the band\n",
    "plt.plot(x_pred, y_pred_validation_inverted, label='Predicted values', color='red', linestyle='--')\n",
    "\n",
    "plt.xlabel('Timesteps')\n",
    "plt.ylabel('Downhole Pressure')\n",
    "plt.title('Downhole Pressure: True vs. Predicted (All 600 Timesteps) with Kick Indication')\n",
    "plt.legend()\n",
    "\n",
    "# Set the x-axis limits to display only the 0-600 range\n",
    "plt.xlim(0, 600)\n",
    "\n",
    "plt.show()\n"
   ]
  },
  {
   "cell_type": "code",
   "execution_count": null,
   "id": "6ff3057b",
   "metadata": {},
   "outputs": [],
   "source": []
  }
 ],
 "metadata": {
  "kernelspec": {
   "display_name": "Python 3 (ipykernel)",
   "language": "python",
   "name": "python3"
  },
  "language_info": {
   "codemirror_mode": {
    "name": "ipython",
    "version": 3
   },
   "file_extension": ".py",
   "mimetype": "text/x-python",
   "name": "python",
   "nbconvert_exporter": "python",
   "pygments_lexer": "ipython3",
   "version": "3.8.2"
  }
 },
 "nbformat": 4,
 "nbformat_minor": 5
}
