{
 "cells": [
  {
   "cell_type": "markdown",
   "id": "eb9217c0",
   "metadata": {},
   "source": [
    "### Script that increase the FlowRateIn every 90 seconds with 300 L/s and display the Bottom Hole Pressure"
   ]
  },
  {
   "cell_type": "code",
   "execution_count": 1,
   "id": "1f8e0f43",
   "metadata": {},
   "outputs": [],
   "source": [
    "import openlab\n",
    "import matplotlib.pyplot as plt\n",
    "import numpy\n",
    "import time\n",
    "import pandas as pd\n",
    "import time\n",
    "import random\n",
    "import pprint as pr\n",
    "import datetime\n",
    "import os\n",
    "import subprocess"
   ]
  },
  {
   "cell_type": "code",
   "execution_count": 2,
   "id": "db706139",
   "metadata": {},
   "outputs": [],
   "source": [
    "config_name = \"InclinedWell\"\n",
    "sim_name = \"validation\"\n",
    "initial_bit_depth = 2500"
   ]
  },
  {
   "cell_type": "code",
   "execution_count": 3,
   "id": "3ba6c930",
   "metadata": {},
   "outputs": [
    {
     "name": "stderr",
     "output_type": "stream",
     "text": [
      "11:15:47 [INFO] Initializing Openlab http client\n",
      "11:15:47 [INFO] Creating token\n",
      "11:15:47 [INFO] Saving token\n",
      "11:15:47 [INFO] Login Succesfull\n"
     ]
    }
   ],
   "source": [
    "username=\n",
    "apikey=\n",
    "licenseguid=\n",
    "\n",
    "session = openlab.http_client(username=username, apikey=apikey,licenseguid=licenseguid) #this initializes an http client that can be used for an entire openlab session"
   ]
  },
  {
   "cell_type": "code",
   "execution_count": 4,
   "id": "5de91f92",
   "metadata": {},
   "outputs": [
    {
     "name": "stderr",
     "output_type": "stream",
     "text": [
      "11:15:51 [INFO] User limits: {'ActiveSimulationCount': 2, 'MaxConcurrentSimulations': 5, 'MaxSimulationCount': 0, 'MaxStepCount': 180000, 'MaxStoredSimulations': 10, 'MaxTimeStep': 18000, 'TotalSimulationCount': 1737, 'UsedCapacityPercent': 20, 'UsedStepCount': 35379}\n",
      "11:15:52 [INFO] No influx mode selected. Defaulting to 'NoInfluxLoss'\n",
      "11:16:08 [INFO] Simulation Initialized\n"
     ]
    }
   ],
   "source": [
    "sim = session.create_simulation(config_name, sim_name, initial_bit_depth)"
   ]
  },
  {
   "cell_type": "code",
   "execution_count": 5,
   "id": "9b128a90",
   "metadata": {},
   "outputs": [],
   "source": [
    "# this is how setpoints are set. the sim.step() method handles getting the setpoints at every step\n",
    "sim.setpoints.FlowRateIn = 0\n",
    "sim.setpoints.SurfaceRPM = 120/60 #Hz\n",
    "sim.setpoints.DesiredROP = 0.02 #m/s\n",
    "sim.setpoints.TopOfStringVelocity = 0.02\n",
    "sim.setpoints.DesiredWOB = 20000"
   ]
  },
  {
   "cell_type": "code",
   "execution_count": 6,
   "id": "015cbddd",
   "metadata": {},
   "outputs": [],
   "source": [
    "#results we want\n",
    "tags = ['SPP', 'FlowRateOut', 'HookLoad', 'SurfaceTorque', 'BitDepth', 'FluidTemperatureOut', 'WOB', 'InstantaneousROP', \n",
    "        'FlowRateIn', 'SurfaceRPM', 'FluidTemperatureIn', 'MainPitVolume', 'MainPitDensity', 'DownholePressure']"
   ]
  },
  {
   "cell_type": "markdown",
   "id": "ffc85b66",
   "metadata": {},
   "source": [
    "#### Change maxSimulationSteps for how long time you want to drill"
   ]
  },
  {
   "cell_type": "code",
   "execution_count": 7,
   "id": "6d4a81c7",
   "metadata": {
    "scrolled": true
   },
   "outputs": [
    {
     "name": "stdout",
     "output_type": "stream",
     "text": [
      "--------------------------------Simulation started-------------------------\n",
      "Average Downhole Pressure for time interval 1 - 90 and 0 FlowRateIn was 35462532 Pa\n",
      "Average Downhole Pressure for time interval 90 - 180 and 0 FlowRateIn was 35409161 Pa\n",
      "Average Downhole Pressure for time interval 180 - 270 and 300 FlowRateIn was 36793379 Pa\n",
      "Average Downhole Pressure for time interval 270 - 360 and 600 FlowRateIn was 37705558 Pa\n",
      "Average Downhole Pressure for time interval 360 - 450 and 900 FlowRateIn was 39105520 Pa\n",
      "Average Downhole Pressure for time interval 450 - 540 and 1200 FlowRateIn was 41571035 Pa\n"
     ]
    },
    {
     "name": "stderr",
     "output_type": "stream",
     "text": [
      "11:17:49 [INFO] Ending simulation 1ccfa7e1-d549-460d-b49f-253ae0d10d4c\n",
      "11:17:49 [INFO] 1ccfa7e1-d549-460d-b49f-253ae0d10d4c was completed\n"
     ]
    },
    {
     "name": "stdout",
     "output_type": "stream",
     "text": [
      "Simulation Complete\n"
     ]
    }
   ],
   "source": [
    "#number of steps to take\n",
    "maxSimulationSteps = 600\n",
    "\n",
    "#sweep Values\n",
    "flowRateInValuesIncrease = numpy.arange(0, 2400, 300) # increase phase from 0 to 2100\n",
    "flowRateInValuesDecrease = numpy.arange(2400, -300, -300) # decrease phase from 2100 to 0\n",
    "flowRateInValues = numpy.concatenate((flowRateInValuesIncrease, flowRateInValuesDecrease[1:])) # exclude the first element of the decrease phase to avoid duplicate 2800\n",
    "\n",
    "#\"jsonify\" the np.array\n",
    "flowRateInValuesList = (flowRateInValues/60000).tolist() # divide by 60000 to convert m^3/s\n",
    "\n",
    "#calculate the times to change FlowRateIn\n",
    "flowRateChangeInterval = 90 #seconds\n",
    "stepTimes = numpy.arange(flowRateChangeInterval, maxSimulationSteps+1, flowRateChangeInterval).tolist()\n",
    "\n",
    "\n",
    "# Initialize a dictionary to store feature values\n",
    "values = {tag: [] for tag in tags}\n",
    "\n",
    "numerator = 0\n",
    "old_timeStep = 1\n",
    "flowRateInIndex = 0\n",
    "\n",
    "print(\"--------------------------------Simulation started--------------------------------------------------------------\")\n",
    "for timeStep in range(1, maxSimulationSteps+1):\n",
    "    if timeStep in stepTimes:\n",
    "        time_interval = timeStep - old_timeStep\n",
    "        if time_interval > 0: #don't divide by 0\n",
    "            average_pressure = numerator/time_interval\n",
    "            print(\"Average Downhole Pressure for time interval {} - {} and {} FlowRateIn was {} Pa\".format(\n",
    "                old_timeStep, timeStep, round(sim.setpoints.FlowRateIn*60000), round(average_pressure)))\n",
    "            numerator = 0 # reset numerator\n",
    "        \n",
    "        sim.setpoints.FlowRateIn = flowRateInValuesList[flowRateInIndex] #Set new FlowRateIn setpoint\n",
    "        flowRateInIndex = (flowRateInIndex + 1) % len(flowRateInValuesList) # Update the index, wrap around to the start if it goes past the end\n",
    "\n",
    "        old_timeStep = timeStep # reset old timestep \n",
    "\n",
    "    #step\n",
    "    sim.step(timeStep)\n",
    "\n",
    "    #get results\n",
    "    sim.get_results(timeStep, tags)\n",
    "\n",
    "    # Append the current feature values to the respective lists in the dictionary\n",
    "    for feature in tags:\n",
    "        if feature == \"Connection\":\n",
    "            continue  # skip 'Connection' feature as it's not in sim.results\n",
    "        values[feature].append(getattr(sim.results, feature)[timeStep])\n",
    "        numerator += getattr(sim.results, feature)[timeStep]\n",
    "\n",
    "#stop simulation\n",
    "sim.stop()\n",
    "\n",
    "df = pd.DataFrame(values)\n",
    "\n",
    "# Add a new column 'timeStep' starting at 1 and ending at 600\n",
    "df['timeStep'] = range(1, 601)  # 600 inclusive\n",
    "\n",
    "print(\"Simulation Complete\")"
   ]
  },
  {
   "cell_type": "markdown",
   "id": "97ca57e9",
   "metadata": {},
   "source": [
    "### Look at the dataframe"
   ]
  },
  {
   "cell_type": "code",
   "execution_count": 15,
   "id": "e10c01b5",
   "metadata": {},
   "outputs": [
    {
     "data": {
      "text/html": [
       "<div>\n",
       "<style scoped>\n",
       "    .dataframe tbody tr th:only-of-type {\n",
       "        vertical-align: middle;\n",
       "    }\n",
       "\n",
       "    .dataframe tbody tr th {\n",
       "        vertical-align: top;\n",
       "    }\n",
       "\n",
       "    .dataframe thead th {\n",
       "        text-align: right;\n",
       "    }\n",
       "</style>\n",
       "<table border=\"1\" class=\"dataframe\">\n",
       "  <thead>\n",
       "    <tr style=\"text-align: right;\">\n",
       "      <th></th>\n",
       "      <th>SPP</th>\n",
       "      <th>FlowRateOut</th>\n",
       "      <th>HookLoad</th>\n",
       "      <th>SurfaceTorque</th>\n",
       "      <th>BitDepth</th>\n",
       "      <th>FluidTemperatureOut</th>\n",
       "      <th>WOB</th>\n",
       "      <th>InstantaneousROP</th>\n",
       "      <th>FlowRateIn</th>\n",
       "      <th>SurfaceRPM</th>\n",
       "      <th>FluidTemperatureIn</th>\n",
       "      <th>MainPitVolume</th>\n",
       "      <th>MainPitDensity</th>\n",
       "      <th>DownholePressure</th>\n",
       "      <th>timeStep</th>\n",
       "    </tr>\n",
       "  </thead>\n",
       "  <tbody>\n",
       "    <tr>\n",
       "      <th>count</th>\n",
       "      <td>6.000000e+02</td>\n",
       "      <td>6.000000e+02</td>\n",
       "      <td>600.000000</td>\n",
       "      <td>600.000000</td>\n",
       "      <td>600.000000</td>\n",
       "      <td>600.000000</td>\n",
       "      <td>600.000000</td>\n",
       "      <td>600.000000</td>\n",
       "      <td>600.000000</td>\n",
       "      <td>600.000000</td>\n",
       "      <td>600.000000</td>\n",
       "      <td>600.000000</td>\n",
       "      <td>600.000000</td>\n",
       "      <td>6.000000e+02</td>\n",
       "      <td>600.000000</td>\n",
       "    </tr>\n",
       "    <tr>\n",
       "      <th>mean</th>\n",
       "      <td>2.767690e+06</td>\n",
       "      <td>9.979289e-03</td>\n",
       "      <td>118791.981111</td>\n",
       "      <td>14247.438322</td>\n",
       "      <td>2501.721910</td>\n",
       "      <td>284.274017</td>\n",
       "      <td>5047.208350</td>\n",
       "      <td>0.010673</td>\n",
       "      <td>0.010000</td>\n",
       "      <td>1.968333</td>\n",
       "      <td>322.633419</td>\n",
       "      <td>28.853222</td>\n",
       "      <td>1650.456155</td>\n",
       "      <td>3.546019e+07</td>\n",
       "      <td>300.500000</td>\n",
       "    </tr>\n",
       "    <tr>\n",
       "      <th>std</th>\n",
       "      <td>2.636095e+06</td>\n",
       "      <td>8.689342e-03</td>\n",
       "      <td>53519.226414</td>\n",
       "      <td>532.369232</td>\n",
       "      <td>2.097515</td>\n",
       "      <td>1.491630</td>\n",
       "      <td>4566.191293</td>\n",
       "      <td>0.009790</td>\n",
       "      <td>0.008662</td>\n",
       "      <td>0.200577</td>\n",
       "      <td>0.974526</td>\n",
       "      <td>1.145895</td>\n",
       "      <td>0.859947</td>\n",
       "      <td>3.422725e+05</td>\n",
       "      <td>173.349358</td>\n",
       "    </tr>\n",
       "    <tr>\n",
       "      <th>min</th>\n",
       "      <td>2.183861e+05</td>\n",
       "      <td>-2.098376e-07</td>\n",
       "      <td>79053.511396</td>\n",
       "      <td>11360.651633</td>\n",
       "      <td>2500.001000</td>\n",
       "      <td>283.150000</td>\n",
       "      <td>0.000000</td>\n",
       "      <td>0.000000</td>\n",
       "      <td>0.000000</td>\n",
       "      <td>0.100000</td>\n",
       "      <td>319.467278</td>\n",
       "      <td>26.862937</td>\n",
       "      <td>1650.000000</td>\n",
       "      <td>3.500477e+07</td>\n",
       "      <td>1.000000</td>\n",
       "    </tr>\n",
       "    <tr>\n",
       "      <th>25%</th>\n",
       "      <td>2.183896e+05</td>\n",
       "      <td>-2.524415e-17</td>\n",
       "      <td>79636.368198</td>\n",
       "      <td>13834.730807</td>\n",
       "      <td>2500.001000</td>\n",
       "      <td>283.150000</td>\n",
       "      <td>0.000000</td>\n",
       "      <td>0.000000</td>\n",
       "      <td>0.000000</td>\n",
       "      <td>2.000000</td>\n",
       "      <td>322.616872</td>\n",
       "      <td>27.691948</td>\n",
       "      <td>1650.000000</td>\n",
       "      <td>3.500478e+07</td>\n",
       "      <td>150.750000</td>\n",
       "    </tr>\n",
       "    <tr>\n",
       "      <th>50%</th>\n",
       "      <td>2.065312e+06</td>\n",
       "      <td>1.020675e-02</td>\n",
       "      <td>80052.678254</td>\n",
       "      <td>14625.921261</td>\n",
       "      <td>2500.437987</td>\n",
       "      <td>283.470230</td>\n",
       "      <td>9055.591897</td>\n",
       "      <td>0.019137</td>\n",
       "      <td>0.010000</td>\n",
       "      <td>2.000000</td>\n",
       "      <td>323.150000</td>\n",
       "      <td>29.255000</td>\n",
       "      <td>1650.000000</td>\n",
       "      <td>3.551505e+07</td>\n",
       "      <td>300.500000</td>\n",
       "    </tr>\n",
       "    <tr>\n",
       "      <th>75%</th>\n",
       "      <td>3.822917e+06</td>\n",
       "      <td>1.568218e-02</td>\n",
       "      <td>157615.019854</td>\n",
       "      <td>14666.928086</td>\n",
       "      <td>2503.422389</td>\n",
       "      <td>285.171347</td>\n",
       "      <td>9325.280860</td>\n",
       "      <td>0.019981</td>\n",
       "      <td>0.017083</td>\n",
       "      <td>2.000000</td>\n",
       "      <td>323.150000</td>\n",
       "      <td>30.000000</td>\n",
       "      <td>1650.472045</td>\n",
       "      <td>3.579332e+07</td>\n",
       "      <td>450.250000</td>\n",
       "    </tr>\n",
       "    <tr>\n",
       "      <th>max</th>\n",
       "      <td>8.633685e+06</td>\n",
       "      <td>2.518652e-02</td>\n",
       "      <td>242882.726108</td>\n",
       "      <td>14747.048299</td>\n",
       "      <td>2506.404562</td>\n",
       "      <td>287.967563</td>\n",
       "      <td>9335.178303</td>\n",
       "      <td>0.020011</td>\n",
       "      <td>0.025000</td>\n",
       "      <td>2.000000</td>\n",
       "      <td>323.150000</td>\n",
       "      <td>30.000000</td>\n",
       "      <td>1653.245465</td>\n",
       "      <td>3.600021e+07</td>\n",
       "      <td>600.000000</td>\n",
       "    </tr>\n",
       "  </tbody>\n",
       "</table>\n",
       "</div>"
      ],
      "text/plain": [
       "                SPP   FlowRateOut       HookLoad  SurfaceTorque     BitDepth  \\\n",
       "count  6.000000e+02  6.000000e+02     600.000000     600.000000   600.000000   \n",
       "mean   2.767690e+06  9.979289e-03  118791.981111   14247.438322  2501.721910   \n",
       "std    2.636095e+06  8.689342e-03   53519.226414     532.369232     2.097515   \n",
       "min    2.183861e+05 -2.098376e-07   79053.511396   11360.651633  2500.001000   \n",
       "25%    2.183896e+05 -2.524415e-17   79636.368198   13834.730807  2500.001000   \n",
       "50%    2.065312e+06  1.020675e-02   80052.678254   14625.921261  2500.437987   \n",
       "75%    3.822917e+06  1.568218e-02  157615.019854   14666.928086  2503.422389   \n",
       "max    8.633685e+06  2.518652e-02  242882.726108   14747.048299  2506.404562   \n",
       "\n",
       "       FluidTemperatureOut          WOB  InstantaneousROP  FlowRateIn  \\\n",
       "count           600.000000   600.000000        600.000000  600.000000   \n",
       "mean            284.274017  5047.208350          0.010673    0.010000   \n",
       "std               1.491630  4566.191293          0.009790    0.008662   \n",
       "min             283.150000     0.000000          0.000000    0.000000   \n",
       "25%             283.150000     0.000000          0.000000    0.000000   \n",
       "50%             283.470230  9055.591897          0.019137    0.010000   \n",
       "75%             285.171347  9325.280860          0.019981    0.017083   \n",
       "max             287.967563  9335.178303          0.020011    0.025000   \n",
       "\n",
       "       SurfaceRPM  FluidTemperatureIn  MainPitVolume  MainPitDensity  \\\n",
       "count  600.000000          600.000000     600.000000      600.000000   \n",
       "mean     1.968333          322.633419      28.853222     1650.456155   \n",
       "std      0.200577            0.974526       1.145895        0.859947   \n",
       "min      0.100000          319.467278      26.862937     1650.000000   \n",
       "25%      2.000000          322.616872      27.691948     1650.000000   \n",
       "50%      2.000000          323.150000      29.255000     1650.000000   \n",
       "75%      2.000000          323.150000      30.000000     1650.472045   \n",
       "max      2.000000          323.150000      30.000000     1653.245465   \n",
       "\n",
       "       DownholePressure    timeStep  \n",
       "count      6.000000e+02  600.000000  \n",
       "mean       3.546019e+07  300.500000  \n",
       "std        3.422725e+05  173.349358  \n",
       "min        3.500477e+07    1.000000  \n",
       "25%        3.500478e+07  150.750000  \n",
       "50%        3.551505e+07  300.500000  \n",
       "75%        3.579332e+07  450.250000  \n",
       "max        3.600021e+07  600.000000  "
      ]
     },
     "execution_count": 15,
     "metadata": {},
     "output_type": "execute_result"
    }
   ],
   "source": [
    "df.describe()"
   ]
  },
  {
   "cell_type": "markdown",
   "id": "9afd870c",
   "metadata": {},
   "source": [
    "### Plot the simulation"
   ]
  },
  {
   "cell_type": "code",
   "execution_count": 9,
   "id": "00c3b7a8",
   "metadata": {
    "scrolled": false
   },
   "outputs": [
    {
     "data": {
      "image/png": "[encoded data removed]",
      "text/plain": [
       "<Figure size 1000x500 with 1 Axes>"
      ]
     },
     "metadata": {},
     "output_type": "display_data"
    }
   ],
   "source": [
    "# Plot DownholePressure against time step\n",
    "plt.figure(figsize=(10,5))\n",
    "plt.plot(range(1, 601), df['DownholePressure'], label='DownholePressure')\n",
    "plt.xlabel('Time Step')\n",
    "plt.ylabel('Downhole Pressure')\n",
    "plt.legend()\n",
    "plt.show()"
   ]
  },
  {
   "cell_type": "markdown",
   "id": "d9c03d97",
   "metadata": {},
   "source": [
    "### Save the data to preferred folder "
   ]
  },
  {
   "cell_type": "code",
   "execution_count": null,
   "id": "16868c51",
   "metadata": {},
   "outputs": [],
   "source": [
    "pwd"
   ]
  },
  {
   "cell_type": "code",
   "execution_count": null,
   "id": "3a9bbf86",
   "metadata": {},
   "outputs": [],
   "source": [
    "import os\n",
    "import subprocess\n",
    "import datetime\n",
    "import pandas as pd\n",
    "\n",
    "# specify the full path to the folder where the file is saved\n",
    "folder_path = \"/Users/\n",
    "\n",
    "# specify the simulation identifier used to save the file\n",
    "simulation_id = \"validation\"\n",
    "\n",
    "# specify the current date and time as a string\n",
    "current_time = datetime.datetime.now().strftime(\"%Y-%m-%d_%H\")\n",
    "\n",
    "# create the folder if it does not exist\n",
    "os.makedirs(folder_path, exist_ok=True)\n",
    "\n",
    "# construct the full path to the CSV file to write\n",
    "file_name = f\"results_{simulation_id}_{current_time}.csv\"\n",
    "file_path = os.path.join(folder_path, file_name)\n",
    "\n",
    "# write the DataFrame to a CSV file\n",
    "df.to_csv(file_path, index=False)\n",
    "\n",
    "# read the CSV file into a pandas DataFrame\n",
    "df = pd.read_csv(file_path)\n",
    "\n",
    "# open the CSV file using the default program associated with CSV files\n",
    "if os.name == 'nt':  # for Windows\n",
    "    os.startfile(file_path)\n",
    "else:  # for Mac and Linux\n",
    "    subprocess.call(('open', file_path))\n"
   ]
  }
 ],
 "metadata": {
  "kernelspec": {
   "display_name": "Python 3 (ipykernel)",
   "language": "python",
   "name": "python3"
  },
  "language_info": {
   "codemirror_mode": {
    "name": "ipython",
    "version": 3
   },
   "file_extension": ".py",
   "mimetype": "text/x-python",
   "name": "python",
   "nbconvert_exporter": "python",
   "pygments_lexer": "ipython3",
   "version": "3.8.2"
  }
 },
 "nbformat": 4,
 "nbformat_minor": 5
}
