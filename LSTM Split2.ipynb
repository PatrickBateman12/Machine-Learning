{
 "cells": [
  {
   "cell_type": "markdown",
   "id": "e62d3d60",
   "metadata": {},
   "source": [
    "## Machine Learning using LSTM on Split 2"
   ]
  },
  {
   "cell_type": "code",
   "execution_count": 1,
   "id": "3886d450",
   "metadata": {},
   "outputs": [],
   "source": [
    "# Warnings are provided to warn the developer of situations that aren’t necessarily exceptions. \n",
    "#Usually, a warning occurs when there is some obsolete of certain programming elements.\n",
    "#Python program terminates immediately if an error occurs. Conversely, a warning is not critical.\n",
    "\n",
    "import warnings\n",
    "warnings.filterwarnings('ignore')"
   ]
  },
  {
   "cell_type": "code",
   "execution_count": 2,
   "id": "40cded20",
   "metadata": {},
   "outputs": [
    {
     "name": "stderr",
     "output_type": "stream",
     "text": [
      "2023-05-25 14:11:00.704332: I tensorflow/core/platform/cpu_feature_guard.cc:193] This TensorFlow binary is optimized with oneAPI Deep Neural Network Library (oneDNN) to use the following CPU instructions in performance-critical operations:  AVX2 FMA\n",
      "To enable them in other operations, rebuild TensorFlow with the appropriate compiler flags.\n"
     ]
    }
   ],
   "source": [
    "import numpy as np\n",
    "import tensorflow as tf\n",
    "from tensorflow.keras.models import Sequential\n",
    "from tensorflow.keras.layers import LSTM, Dense, Dropout\n",
    "from sklearn.preprocessing import MinMaxScaler\n",
    "import matplotlib.pyplot as plt\n",
    "from tensorflow.keras.models import load_model\n",
    "import seaborn as sns\n",
    "import matplotlib as mpl\n",
    "import matplotlib.colors as mcolors\n",
    "from sklearn.metrics import mean_squared_error, mean_absolute_error, r2_score\n",
    "from math import sqrt"
   ]
  },
  {
   "cell_type": "markdown",
   "id": "add7d67b",
   "metadata": {},
   "source": [
    "### Importing the stored components"
   ]
  },
  {
   "cell_type": "code",
   "execution_count": 3,
   "id": "00b3bc3f",
   "metadata": {},
   "outputs": [],
   "source": [
    "%store -r df_train2\n",
    "%store -r df_test2\n",
    "%store -r df_val2\n",
    "%store -r df_validation2\n",
    "%store -r input_col2\n",
    "%store -r target_col2\n",
    "%store -r minmax_scaler2"
   ]
  },
  {
   "cell_type": "markdown",
   "id": "21560ff5",
   "metadata": {},
   "source": [
    "#### Splitting into x and y from input and target columns"
   ]
  },
  {
   "cell_type": "code",
   "execution_count": 4,
   "id": "d38d010f",
   "metadata": {},
   "outputs": [],
   "source": [
    "X_train = df_train2[input_col2].to_numpy()\n",
    "y_train = df_train2[target_col2].to_numpy()\n",
    "\n",
    "X_val = df_val2[input_col2].to_numpy()\n",
    "y_val = df_val2[target_col2].to_numpy()\n",
    "\n",
    "X_test = df_test2[input_col2].to_numpy()\n",
    "y_test = df_test2[target_col2].to_numpy()"
   ]
  },
  {
   "cell_type": "markdown",
   "id": "fcea55d5",
   "metadata": {},
   "source": [
    "### Creating sequences for the training set, validation set and test set to fit into the LSTM"
   ]
  },
  {
   "cell_type": "code",
   "execution_count": 5,
   "id": "d0af3b06",
   "metadata": {},
   "outputs": [],
   "source": [
    "def create_sequences(data, target, seq_length):\n",
    "    X = []\n",
    "    y = []\n",
    "\n",
    "    for i in range(len(data) - seq_length):\n",
    "        # Create input sequence\n",
    "        seq = data[i:i + seq_length]\n",
    "        # Append the target value (value at the next timestep) for the given sequence\n",
    "        X.append(seq)\n",
    "        y.append(target[i + seq_length])\n",
    "\n",
    "    return np.array(X), np.array(y)\n",
    "\n",
    "\n",
    "# Example usage:\n",
    "sequence_length = 50\n",
    "target_feature = 'DownholePressure'  # The feature you want to predict\n",
    "\n",
    "X_train_seq, y_train_seq = create_sequences(X_train, y_train, sequence_length)\n",
    "X_val_seq, y_val_seq = create_sequences(X_val, y_val, sequence_length)\n",
    "X_test_seq, y_test_seq = create_sequences(X_test, y_test, sequence_length)"
   ]
  },
  {
   "cell_type": "markdown",
   "id": "635097e8",
   "metadata": {},
   "source": [
    "### Defining the layers and architecture of the LSTM model"
   ]
  },
  {
   "cell_type": "code",
   "execution_count": 6,
   "id": "0d5de783",
   "metadata": {},
   "outputs": [
    {
     "name": "stderr",
     "output_type": "stream",
     "text": [
      "2023-05-25 14:11:16.410371: I tensorflow/core/platform/cpu_feature_guard.cc:193] This TensorFlow binary is optimized with oneAPI Deep Neural Network Library (oneDNN) to use the following CPU instructions in performance-critical operations:  AVX2 FMA\n",
      "To enable them in other operations, rebuild TensorFlow with the appropriate compiler flags.\n"
     ]
    }
   ],
   "source": [
    "n_features = X_train_seq.shape[2]\n",
    "\n",
    "model = Sequential()\n",
    "model.add(LSTM(50, activation='relu', input_shape=(sequence_length, n_features), return_sequences=True))\n",
    "model.add(Dropout(0.2))\n",
    "model.add(LSTM(50, activation='relu', return_sequences=True))\n",
    "model.add(Dropout(0.2))\n",
    "model.add(LSTM(50, activation='relu'))\n",
    "model.add(Dropout(0.2))\n",
    "model.add(Dense(1))\n"
   ]
  },
  {
   "cell_type": "code",
   "execution_count": null,
   "id": "c9573527",
   "metadata": {},
   "outputs": [],
   "source": [
    "model.summary()"
   ]
  },
  {
   "cell_type": "markdown",
   "id": "91f0172f",
   "metadata": {},
   "source": [
    "### Fitting the LSTM on Training Set"
   ]
  },
  {
   "cell_type": "code",
   "execution_count": null,
   "id": "67f57bf0",
   "metadata": {},
   "outputs": [],
   "source": [
    "model.compile(optimizer='adam', loss='mse')\n",
    "\n",
    "history = model.fit(\n",
    "    X_train_seq, y_train_seq,\n",
    "    epochs=10,\n",
    "    batch_size=64,\n",
    "    validation_data=(X_val_seq, y_val_seq),\n",
    "    verbose=1\n",
    ")\n"
   ]
  },
  {
   "cell_type": "markdown",
   "id": "1ae417f1",
   "metadata": {},
   "source": [
    "### Saving in order to skip the time consuming training"
   ]
  },
  {
   "cell_type": "code",
   "execution_count": null,
   "id": "0550a504",
   "metadata": {},
   "outputs": [],
   "source": [
    "model.save('LSTM Train Split 2.h5')"
   ]
  },
  {
   "cell_type": "code",
   "execution_count": 35,
   "id": "7c1f1b6b",
   "metadata": {},
   "outputs": [],
   "source": [
    "loaded_model = load_model('LSTM Train Split 2.h5', compile=False)\n",
    "loaded_model.compile(optimizer='adam', loss='mse')"
   ]
  },
  {
   "cell_type": "markdown",
   "id": "f0e726cf",
   "metadata": {},
   "source": [
    "### Predict the validation set and calculate the error metrics and r^2 score"
   ]
  },
  {
   "cell_type": "code",
   "execution_count": 10,
   "id": "27f28c96",
   "metadata": {},
   "outputs": [
    {
     "name": "stdout",
     "output_type": "stream",
     "text": [
      "1986/1986 [==============================] - 23s 11ms/step\n"
     ]
    }
   ],
   "source": [
    "# Make predictions using the model\n",
    "y_pred = loaded_model.predict(X_val_seq)\n",
    "\n",
    "# Flatten y_val_seq and y_pred for error calculations\n",
    "y_val_seq_flat = y_val_seq.flatten()\n",
    "y_pred_flat = y_pred.flatten()"
   ]
  },
  {
   "cell_type": "code",
   "execution_count": 11,
   "id": "e4c877f0",
   "metadata": {},
   "outputs": [
    {
     "name": "stdout",
     "output_type": "stream",
     "text": [
      "Validation MSE: 0.0025273014152024254\n",
      "Validation RMSE: 0.05027227282710048\n",
      "Validation MAE: 0.0450001933113782\n",
      "Validation R2 Score: 0.7554650628264478\n"
     ]
    }
   ],
   "source": [
    "# Calculate MSE\n",
    "mse = mean_squared_error(y_val_seq_flat, y_pred_flat)\n",
    "\n",
    "# Calculate RMSE\n",
    "rmse = sqrt(mse)\n",
    "\n",
    "# Calculate MAE\n",
    "mae = mean_absolute_error(y_val_seq_flat, y_pred_flat)\n",
    "\n",
    "# Calculate R2 Score\n",
    "r2 = r2_score(y_val_seq_flat, y_pred_flat)\n",
    "\n",
    "print(\"Validation MSE:\", mse)\n",
    "print(\"Validation RMSE:\", rmse)\n",
    "print(\"Validation MAE:\", mae)\n",
    "print(\"Validation R2 Score:\", r2)"
   ]
  },
  {
   "cell_type": "markdown",
   "id": "b43ad138",
   "metadata": {},
   "source": [
    "### Predict the test set and calculate the error metrics and r^2 score"
   ]
  },
  {
   "cell_type": "code",
   "execution_count": 12,
   "id": "5f506c62",
   "metadata": {},
   "outputs": [
    {
     "name": "stdout",
     "output_type": "stream",
     "text": [
      "1028/1028 [==============================] - 10s 9ms/step\n"
     ]
    }
   ],
   "source": [
    "# Make predictions using the model\n",
    "y_pred = loaded_model.predict(X_test_seq)\n",
    "\n",
    "# Flatten y_test_seq and y_pred for error calculations\n",
    "y_test_seq_flat = y_test_seq.flatten()\n",
    "y_pred_flat = y_pred.flatten()"
   ]
  },
  {
   "cell_type": "code",
   "execution_count": 13,
   "id": "34a3972d",
   "metadata": {},
   "outputs": [
    {
     "name": "stdout",
     "output_type": "stream",
     "text": [
      "Test MSE: 0.0009895806279173512\n",
      "Test RMSE: 0.03145760047933331\n",
      "Test MAE: 0.025689665145371847\n",
      "Test R2 Score: 0.9229116686021281\n"
     ]
    }
   ],
   "source": [
    "# Calculate MSE\n",
    "mse = mean_squared_error(y_test_seq_flat, y_pred_flat)\n",
    "\n",
    "# Calculate RMSE\n",
    "rmse = sqrt(mse)\n",
    "\n",
    "# Calculate MAE\n",
    "mae = mean_absolute_error(y_test_seq_flat, y_pred_flat)\n",
    "\n",
    "# Calculate R2 Score\n",
    "r2 = r2_score(y_test_seq_flat, y_pred_flat)\n",
    "\n",
    "print(\"Test MSE:\", mse)\n",
    "print(\"Test RMSE:\", rmse)\n",
    "print(\"Test MAE:\", mae)\n",
    "print(\"Test R2 Score:\", r2)"
   ]
  },
  {
   "cell_type": "markdown",
   "id": "90e2ce35",
   "metadata": {},
   "source": [
    "### Unscaling the data if the test splot should be with real numbers"
   ]
  },
  {
   "cell_type": "code",
   "execution_count": 33,
   "id": "97fb15c4",
   "metadata": {},
   "outputs": [],
   "source": [
    "def invert_scaling(y_values, target_scaler, apply_inverse=True):\n",
    "    if apply_inverse:\n",
    "        # Invert the scaling\n",
    "        y_values_inverted = target_scaler.inverse_transform(y_values.reshape(-1, 1))\n",
    "    else:\n",
    "        # Don't invert the scaling\n",
    "        y_values_inverted = y_values\n",
    "    return y_values_inverted.ravel()\n",
    "\n",
    "# Set apply_inverse to False if you want scaled values, True if you want real values\n",
    "apply_inverse = False\n",
    "\n",
    "# Create a new scaler fitted on the 'DownholePressure' column of the training data\n",
    "target_scaler = minmax_scaler2\n",
    "\n",
    "# Invert the scaling of the predicted and true DownholePressure values\n",
    "y_pred_inverted = invert_scaling(y_pred, target_scaler, apply_inverse)\n",
    "y_test_inverted = invert_scaling(y_test_seq, target_scaler, apply_inverse)"
   ]
  },
  {
   "cell_type": "code",
   "execution_count": 34,
   "id": "850b5ab5",
   "metadata": {},
   "outputs": [
    {
     "data": {
      "image/png": "[encoded data removed]",
      "text/plain": [
       "<Figure size 1500x800 with 1 Axes>"
      ]
     },
     "metadata": {},
     "output_type": "display_data"
    }
   ],
   "source": [
    "# Select the first 600 steps\n",
    "y_test_inverted_600 = y_test_inverted[:550]\n",
    "y_pred_inverted_600 = y_pred_inverted[:550]\n",
    "\n",
    "# Plot the true DownholePressure values against the predicted values\n",
    "plt.figure(figsize=(15, 8))\n",
    "plt.plot(y_test_inverted_600, label='True DownholePressure')\n",
    "plt.plot(y_pred_inverted_600, label='Predicted DownholePressure')\n",
    "plt.title('Actual vs Predicted DownholePressure for Test Data LSTM')\n",
    "plt.xlabel('Timestep (s)')\n",
    "plt.ylabel('Pressure (psi)')\n",
    "plt.legend()\n",
    "plt.show()"
   ]
  },
  {
   "cell_type": "markdown",
   "id": "7eee2828",
   "metadata": {},
   "source": [
    "### Testing the LSTM on a new online unseen dataset"
   ]
  },
  {
   "cell_type": "code",
   "execution_count": 17,
   "id": "f7eea6a5",
   "metadata": {},
   "outputs": [],
   "source": [
    "%store -r df_validation"
   ]
  },
  {
   "cell_type": "code",
   "execution_count": 18,
   "id": "8a122e92",
   "metadata": {},
   "outputs": [
    {
     "name": "stdout",
     "output_type": "stream",
     "text": [
      "18/18 [==============================] - 0s 11ms/step\n"
     ]
    }
   ],
   "source": [
    "# Define the input features and target features\n",
    "X_validation = df_validation[input_col2].to_numpy()\n",
    "y_validation = df_validation[target_col2].to_numpy()\n",
    "\n",
    "# Create sequences from the scaled validation data\n",
    "sequence_length = 50\n",
    "X_validation_seq, _ = create_sequences(X_validation, np.zeros(X_validation.shape[0]), sequence_length)\n",
    "\n",
    "# Use the LSTM model to predict the DownholePressure values for each sequence\n",
    "y_pred_validation = loaded_model.predict(X_validation_seq)"
   ]
  },
  {
   "cell_type": "code",
   "execution_count": 19,
   "id": "1ce591d6",
   "metadata": {},
   "outputs": [
    {
     "name": "stdout",
     "output_type": "stream",
     "text": [
      "Mean Squared Error: 0.01018384695329394\n",
      "Mean Absolute Error: 0.06906031038570692\n",
      "R^2 Score: -0.7858699962646118\n",
      "Root Mean Square Error: 0.1009150482004242\n"
     ]
    }
   ],
   "source": [
    "# Adjust the true values to match the length of predictions\n",
    "y_validation = y_validation[sequence_length:]\n",
    "\n",
    "# Calculating MSE\n",
    "mse = mean_squared_error(y_validation, y_pred_validation)\n",
    "print(f'Mean Squared Error: {mse}')\n",
    "\n",
    "# Calculating MAE\n",
    "mae = mean_absolute_error(y_validation, y_pred_validation)\n",
    "print(f'Mean Absolute Error: {mae}')\n",
    "\n",
    "# Calculating R2 Score\n",
    "r2 = r2_score(y_validation, y_pred_validation)\n",
    "print(f'R^2 Score: {r2}')\n",
    "\n",
    "# Calculating RMSE\n",
    "rmse = np.sqrt(mse)\n",
    "print(f'Root Mean Square Error: {rmse}')"
   ]
  },
  {
   "cell_type": "code",
   "execution_count": 23,
   "id": "f083594d",
   "metadata": {},
   "outputs": [],
   "source": [
    "# Invert the scaling of the predicted DownholePressure values\n",
    "target_scaler = minmax_scaler2\n",
    "target_scaler.min_, target_scaler.scale_ = minmax_scaler2.min_[target_index], minmax_scaler2.scale_[target_index]\n",
    "target_index = 5\n",
    "\n",
    "\n",
    "y_pred_validation_last_col = y_pred_validation[:, -1].reshape(-1, 1)\n",
    "y_pred_validation_inverted = target_scaler.inverse_transform(np.concatenate((np.zeros((y_pred_validation_last_col.shape[0], target_index)), y_pred_validation_last_col, np.zeros((y_pred_validation_last_col.shape[0], target_scaler.n_features_in_ - target_index - 1))), axis=1))[:, target_index]\n",
    "\n",
    "# Invert the scaling of the actual DownholePressure values\n",
    "y_validation_last_col = y_validation.reshape(-1, 1)\n",
    "y_validation_inverted = target_scaler.inverse_transform(np.concatenate((np.zeros((y_validation_last_col.shape[0], target_index)), y_validation_last_col, np.zeros((y_validation_last_col.shape[0], target_scaler.n_features_in_ - target_index - 1))), axis=1))[:, target_index]\n"
   ]
  },
  {
   "cell_type": "code",
   "execution_count": 24,
   "id": "986f26ba",
   "metadata": {},
   "outputs": [],
   "source": [
    "#Invert the scaling of the predicted DownholePressure values and the actual values\n",
    "y_pred_validation_inverted = target_scaler.inverse_transform(y_pred_validation)\n",
    "\n",
    "y_validation_inverted = target_scaler.inverse_transform(y_validation)"
   ]
  },
  {
   "cell_type": "code",
   "execution_count": 25,
   "id": "8d08a5de",
   "metadata": {
    "scrolled": false
   },
   "outputs": [
    {
     "data": {
      "image/png": "[encoded data removed]",
      "text/plain": [
       "<Figure size 1400x600 with 1 Axes>"
      ]
     },
     "metadata": {},
     "output_type": "display_data"
    }
   ],
   "source": [
    "# Set the alpha value you want for your gridlines. 1 is opaque, 0 is transparent\n",
    "alpha = 0.3\n",
    "\n",
    "# Get the grid color\n",
    "gridcolor = mpl.rcParams['grid.color']\n",
    "\n",
    "# Convert the grid color to RGBA\n",
    "rgba = mcolors.to_rgba(gridcolor)\n",
    "\n",
    "# Create a new color with the adjusted alpha\n",
    "new_color = (rgba[0], rgba[1], rgba[2], alpha)\n",
    "\n",
    "# Convert the new color back to a hex string\n",
    "new_color_hex = mcolors.to_hex(new_color)\n",
    "\n",
    "# Set the new grid color\n",
    "mpl.rcParams['grid.color'] = new_color_hex\n",
    "\n",
    "# Use seaborn style\n",
    "sns.set_style(\"whitegrid\")\n",
    "\n",
    "# Create a time vector for the validation data\n",
    "time_validation = np.arange(0, len(y_pred_validation_inverted.flatten()))\n",
    "\n",
    "# Create a figure\n",
    "fig, ax = plt.subplots(figsize=(14, 6))\n",
    "\n",
    "# Plot the actual DownholePressure values with seaborn\n",
    "sns.lineplot(x=time_validation, y=y_validation_inverted.flatten(), label='Actual DownholePressure', color='blue', linewidth=1)\n",
    "\n",
    "# Plot the predicted DownholePressure values with seaborn\n",
    "sns.lineplot(x=time_validation, y=y_pred_validation_inverted.flatten(), label='Predicted DownholePressure', color='red', linewidth=1, linestyle='--')\n",
    "\n",
    "# Set the x-label, y-label, and title\n",
    "ax.set_xlabel('Timesteps (s)', fontsize=14, labelpad=15)\n",
    "ax.set_ylabel('Pressure (psi)', fontsize=14, labelpad=15)\n",
    "ax.set_title('Downhole Pressure with Kick, LSTM', fontsize=14, pad=20)\n",
    "\n",
    "# Adjust the legend\n",
    "ax.legend(frameon=True, fontsize=10)\n",
    "\n",
    "plt.show()\n"
   ]
  },
  {
   "cell_type": "code",
   "execution_count": null,
   "id": "52817e52",
   "metadata": {},
   "outputs": [],
   "source": []
  }
 ],
 "metadata": {
  "kernelspec": {
   "display_name": "Python 3 (ipykernel)",
   "language": "python",
   "name": "python3"
  },
  "language_info": {
   "codemirror_mode": {
    "name": "ipython",
    "version": 3
   },
   "file_extension": ".py",
   "mimetype": "text/x-python",
   "name": "python",
   "nbconvert_exporter": "python",
   "pygments_lexer": "ipython3",
   "version": "3.8.2"
  }
 },
 "nbformat": 4,
 "nbformat_minor": 5
}
