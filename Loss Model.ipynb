{
 "cells": [
  {
   "cell_type": "markdown",
   "id": "f603ab69",
   "metadata": {},
   "source": [
    "## Simulation with using influx or loss\n",
    "\n",
    "## 2500m inclined well"
   ]
  },
  {
   "cell_type": "code",
   "execution_count": 24,
   "id": "70de2b25",
   "metadata": {},
   "outputs": [],
   "source": [
    "import openlab\n",
    "import matplotlib.pyplot as plt\n",
    "import numpy as np\n",
    "import time\n",
    "import pandas as pd\n",
    "import time\n",
    "import random\n",
    "import pprint as pr\n",
    "from IPython.display import clear_output\n",
    "import datetime\n",
    "import os\n",
    "import subprocess\n",
    "import seaborn as sns"
   ]
  },
  {
   "cell_type": "code",
   "execution_count": 2,
   "id": "f443c71a",
   "metadata": {},
   "outputs": [],
   "source": [
    "# Warnings are provided to warn the developer of situations that aren’t necessarily exceptions. \n",
    "#Usually, a warning occurs when there is some obsolete of certain programming elements.\n",
    "#Python program terminates immediately if an error occurs. Conversely, a warning is not critical.\n",
    "\n",
    "import warnings\n",
    "warnings.filterwarnings('ignore')"
   ]
  },
  {
   "cell_type": "markdown",
   "id": "bbae60e6",
   "metadata": {},
   "source": [
    "### Logging in and creating session"
   ]
  },
  {
   "cell_type": "code",
   "execution_count": 3,
   "id": "e2b37096",
   "metadata": {},
   "outputs": [],
   "source": [
    "username=\"hh.kjolle@stud.uis.no\"\n",
    "apikey=\"8D44DA8C3A7BDC651D325F0476A2AB776938FE99D57050559EF951D33ABCCFAB\"\n",
    "licenseguid=\"c3a0315b-813c-4e0b-8ec9-e14436a1783d\""
   ]
  },
  {
   "cell_type": "code",
   "execution_count": 4,
   "id": "fd705772",
   "metadata": {
    "scrolled": true
   },
   "outputs": [
    {
     "name": "stderr",
     "output_type": "stream",
     "text": [
      "12:58:24 [INFO] Initializing Openlab http client\n",
      "12:58:24 [INFO] Creating token\n",
      "12:58:24 [INFO] Saving token\n",
      "12:58:24 [INFO] Login Succesfull\n"
     ]
    }
   ],
   "source": [
    "session = openlab.http_client(username=username, apikey=apikey,licenseguid=licenseguid) #this intializes an http client that can be used for an entire openlab session"
   ]
  },
  {
   "cell_type": "markdown",
   "id": "192e6258",
   "metadata": {},
   "source": [
    "### Simulation information"
   ]
  },
  {
   "cell_type": "code",
   "execution_count": 5,
   "id": "d7a6d5e9",
   "metadata": {},
   "outputs": [
    {
     "name": "stdout",
     "output_type": "stream",
     "text": [
      "There will be 3 simulations, lasting for 10 minutes, equalling to 1800 timeSteps.\n"
     ]
    }
   ],
   "source": [
    "# each simulation lasts 2 minutes, and there are to be 98 simulations with varying setpoints.\n",
    "single_simulation_lenght = 10 #min\n",
    "total_simulation_length = 30/60 #hrs\n",
    "\n",
    "step_per_sim = single_simulation_lenght*60\n",
    "nr_sim = int(total_simulation_length*60/single_simulation_lenght)\n",
    "total_steps = nr_sim*step_per_sim\n",
    "\n",
    "print(f\"There will be {nr_sim} simulations, lasting for {single_simulation_lenght} minutes, equalling to {total_steps} timeSteps.\")"
   ]
  },
  {
   "cell_type": "markdown",
   "id": "9c94857f",
   "metadata": {},
   "source": [
    "### Manual Loss Model"
   ]
  },
  {
   "cell_type": "code",
   "execution_count": 6,
   "id": "86d65fef",
   "metadata": {},
   "outputs": [],
   "source": [
    "sim_name = \"loss\"\n",
    "config_name = \"test1\"\n",
    "initial_bit_depth = 2500\n",
    "influx_mode = openlab.default_manual_loss"
   ]
  },
  {
   "cell_type": "markdown",
   "id": "91160e1e",
   "metadata": {},
   "source": [
    "#### Starting simulation of manual loss model"
   ]
  },
  {
   "cell_type": "code",
   "execution_count": 7,
   "id": "77cfdac9",
   "metadata": {},
   "outputs": [
    {
     "name": "stderr",
     "output_type": "stream",
     "text": [
      "12:58:25 [INFO] User limits: {'ActiveSimulationCount': 3, 'MaxConcurrentSimulations': 5, 'MaxSimulationCount': 0, 'MaxStepCount': 180000, 'MaxStoredSimulations': 10, 'MaxTimeStep': 18000, 'TotalSimulationCount': 415, 'UsedCapacityPercent': 4, 'UsedStepCount': 7927}\n",
      "12:58:25 [INFO] ManualLoss selected\n",
      "12:58:40 [INFO] Simulation Initialized\n"
     ]
    }
   ],
   "source": [
    "manual_influx_loss_mass_rate = random.randint(-19999, 0) / 60 # Max = -19999 kg/min\n",
    "manual_influx_loss_total_mass = random.randint(0, 20000) # Max = 20000 kg\n",
    "    \n",
    "sim = session.create_simulation(\n",
    "    config_name, \n",
    "    sim_name, \n",
    "    initial_bit_depth, \n",
    "    influx_mode=influx_mode,\n",
    "    ComplexReservoirKickOffTime=300,\n",
    "    Id=\"ManualLoss\",\n",
    "    ManualInfluxLossMD=2505,\n",
    "    ManualInfluxLossMassRate= manual_influx_loss_mass_rate, \n",
    "    ManualInfluxLossTotalMass=manual_influx_loss_total_mass, \n",
    "    ManualReservoirMode=True,\n",
    "    UseReservoirModel=True\n",
    ")"
   ]
  },
  {
   "cell_type": "code",
   "execution_count": 8,
   "id": "edfde715",
   "metadata": {},
   "outputs": [],
   "source": [
    "#sim2.setpoints.SurfaceRPM = 140/60 #rpm to rotation per second\n",
    "#sim2.setpoints.TopOfStringVelocity = 0.656 #m/s\n",
    "#sim2.setpoints.DesiredWOB = 10 * 1000 # 5 metric tons converted to SI unit of kg\n",
    "#sim2.setpoints.FlowRateIn = 2500/60000 #converting l/min to m^3/s"
   ]
  },
  {
   "cell_type": "markdown",
   "id": "3059ae29",
   "metadata": {},
   "source": [
    "### Unit Converter"
   ]
  },
  {
   "cell_type": "code",
   "execution_count": 9,
   "id": "0f865576",
   "metadata": {},
   "outputs": [],
   "source": [
    "FLOW_UNIT_CONV_FACTOR= 1.66666667 * 0.00001#float(\"10e-5\") # l/min --> m^3/s\n",
    "PRESSURE_CONV_FACTOR= 100000.0 # float(\"10e5\") # bar-->pascal\n",
    "WEIGHT_CONV_FACTOR = 0.001 # float (\"10e3\") # kg to tons"
   ]
  },
  {
   "cell_type": "code",
   "execution_count": 10,
   "id": "1a89f5c0",
   "metadata": {},
   "outputs": [],
   "source": [
    "# variable setpoints\n",
    "# random lists\n",
    "SurfaceRPM = [random.randint(0, 220) for _ in range(nr_sim)]\n",
    "SurfaceRPM = [rpm/60 for rpm in SurfaceRPM]\n",
    "\n",
    "DesiredWOB = [random.randint(0, 40) for _ in range(nr_sim)]\n",
    "DesiredWOB = [wob*1000 for wob in DesiredWOB]\n",
    "\n",
    "FlowRateIn = [random.randint(0, 3000) for _ in range(nr_sim)]\n",
    "FlowRateIn = [flow_rate/60000 for flow_rate in FlowRateIn]"
   ]
  },
  {
   "cell_type": "markdown",
   "id": "511afac8",
   "metadata": {},
   "source": [
    "### Results which are relevant"
   ]
  },
  {
   "cell_type": "code",
   "execution_count": 11,
   "id": "c964dae9",
   "metadata": {},
   "outputs": [],
   "source": [
    "# dataframe and tags stuff\n",
    "tags = ['SPP', 'DownholeECD', 'FlowRateOut', 'HookLoad', 'SurfaceTorque', 'BitDepth', 'TD', 'ChokeOpening', 'DownholePressure', 'ChokePressure', 'FluidTemperatureOut', 'WOB', 'InstantaneousROP', 'FlowRateIn', 'TopOfStringVelocity', 'SurfaceRPM', 'DrillstringTemperature', 'TotalInfluxMass', 'CalculatedPressureBottomHole', 'CuttingsMassFractionTransient', 'FluidTemperatureIn', 'AnnulusECD', 'AnnulusTemperature', 'DrillstringTension', 'AnnulusFluidVelocity', 'DrillstringFluidVelocity', 'CuttingsBedHeight', 'AnnulusDensity', 'DrillstringTorque', 'TotalMudLossMass', 'TopOfStringPosition', 'ActivePitVolume', 'ActivePitDensity', 'ActivePitTemperature', 'MainPitVolume', 'MainPitDensity', 'MainPitTemperature', 'ReservePitVolume', 'ReservePitDensity', 'ReservePitTemperature']\n",
    "ID = [\"sim_ID\", \"timeStep\"]\n",
    "columns = tags + ID\n",
    "\n",
    "\n",
    "df = pd.DataFrame(columns=columns)"
   ]
  },
  {
   "cell_type": "markdown",
   "id": "f0803d1b",
   "metadata": {},
   "source": [
    "### Running through the simulations"
   ]
  },
  {
   "cell_type": "code",
   "execution_count": 12,
   "id": "930f3445",
   "metadata": {},
   "outputs": [
    {
     "name": "stderr",
     "output_type": "stream",
     "text": [
      "13:05:57 [INFO] Ending simulation 25828acd-d14f-4551-9816-783b43ec06b2\n",
      "13:05:57 [INFO] 25828acd-d14f-4551-9816-783b43ec06b2 was completed\n"
     ]
    },
    {
     "name": "stdout",
     "output_type": "stream",
     "text": [
      "               SPP  DownholeECD   FlowRateOut       HookLoad  SurfaceTorque  \\\n",
      "0     2.187453e+05  1652.007544 -1.736208e-07  116223.128935     392.142704   \n",
      "1     1.439073e+06  1652.007939 -2.345494e-07  115988.210113     530.641739   \n",
      "2     1.975128e+06  1652.083676  3.157034e-05  115884.282792     668.694736   \n",
      "3     2.647781e+06  1652.206896  6.747568e-05  115751.732274     806.348795   \n",
      "4     3.400404e+06  1652.389424  9.165266e-05  115602.947407     943.643155   \n",
      "...            ...          ...           ...            ...            ...   \n",
      "1795  1.045676e+07  1725.532001  2.699126e-02   91468.582137    6812.099848   \n",
      "1796  1.045710e+07  1725.556213  2.699185e-02   91468.314792    6811.959024   \n",
      "1797  1.045749e+07  1725.583160  2.699245e-02   91468.032045    6811.990664   \n",
      "1798  1.045784e+07  1725.543629  2.699302e-02   91467.716077    6812.041118   \n",
      "1799  1.045814e+07  1725.551366  2.699379e-02   91467.343710    6811.899847   \n",
      "\n",
      "         BitDepth           TD  ChokeOpening  DownholePressure  ChokePressure  \\\n",
      "0     2500.001000  2500.001000           1.0      4.060299e+07       101325.0   \n",
      "1     2500.001000  2500.001000           1.0      4.060300e+07       101325.0   \n",
      "2     2500.001000  2500.001000           1.0      4.060486e+07       101325.0   \n",
      "3     2500.001000  2500.001000           1.0      4.060788e+07       101325.0   \n",
      "4     2500.001000  2500.001000           1.0      4.061235e+07       101325.0   \n",
      "...           ...          ...           ...               ...            ...   \n",
      "1795  2510.923136  2510.923136           1.0      4.259038e+07       101325.0   \n",
      "1796  2510.943127  2510.943127           1.0      4.259132e+07       101325.0   \n",
      "1797  2510.963118  2510.963118           1.0      4.259232e+07       101325.0   \n",
      "1798  2510.983109  2510.983109           1.0      4.259169e+07       101325.0   \n",
      "1799  2511.003099  2511.003099           1.0      4.259221e+07       101325.0   \n",
      "\n",
      "      ...  ActivePitDensity  ActivePitTemperature  MainPitVolume  \\\n",
      "0     ...       1630.000000            323.150000      30.000000   \n",
      "1     ...       1630.000000            323.150000      29.998333   \n",
      "2     ...       1630.000000            323.150000      29.995000   \n",
      "3     ...       1630.000000            323.150000      29.990000   \n",
      "4     ...       1630.000000            323.150000      29.983333   \n",
      "...   ...               ...                   ...            ...   \n",
      "1795  ...       1639.176169            312.751141      23.554376   \n",
      "1796  ...       1639.196403            312.727883      23.554700   \n",
      "1797  ...       1639.216595            312.704673      23.555024   \n",
      "1798  ...       1639.236743            312.681511      23.555349   \n",
      "1799  ...       1639.256849            312.658396      23.555674   \n",
      "\n",
      "      MainPitDensity  MainPitTemperature  ReservePitVolume ReservePitDensity  \\\n",
      "0        1630.000000          323.150000              30.0            1650.0   \n",
      "1        1630.000000          323.150000              30.0            1650.0   \n",
      "2        1630.000000          323.150000              30.0            1650.0   \n",
      "3        1630.000000          323.150000              30.0            1650.0   \n",
      "4        1630.000000          323.150000              30.0            1650.0   \n",
      "...              ...                 ...               ...               ...   \n",
      "1795     1639.176169          312.751141              30.0            1650.0   \n",
      "1796     1639.196403          312.727883              30.0            1650.0   \n",
      "1797     1639.216595          312.704673              30.0            1650.0   \n",
      "1798     1639.236743          312.681511              30.0            1650.0   \n",
      "1799     1639.256849          312.658396              30.0            1650.0   \n",
      "\n",
      "      ReservePitTemperature  sim_ID timeStep  \n",
      "0                    323.15       0        1  \n",
      "1                    323.15       0        2  \n",
      "2                    323.15       0        3  \n",
      "3                    323.15       0        4  \n",
      "4                    323.15       0        5  \n",
      "...                     ...     ...      ...  \n",
      "1795                 323.15       2      596  \n",
      "1796                 323.15       2      597  \n",
      "1797                 323.15       2      598  \n",
      "1798                 323.15       2      599  \n",
      "1799                 323.15       2      600  \n",
      "\n",
      "[1800 rows x 42 columns]\n",
      "All simulations completed.\n"
     ]
    }
   ],
   "source": [
    "startTime = 1\n",
    "endTime = single_simulation_lenght*60\n",
    "\n",
    "timeStep = 1\n",
    "current_simulation = 0\n",
    "\n",
    "sim.stop()\n",
    "\n",
    "while current_simulation < nr_sim:\n",
    "    \n",
    "    print(f\"Simulation {current_simulation + 1}/{nr_sim}\")\n",
    "    \n",
    "    sim_ID = current_simulation\n",
    "    \n",
    "    manual_influx_loss_mass_rate = random.randint(-19999, 0) / 60 # Max = -19999 kg/min\n",
    "    manual_influx_loss_total_mass = random.randint(0, 20000) # Max = 20000 kg\n",
    "    \n",
    "    sim = session.create_simulation(\n",
    "        config_name, \n",
    "        sim_name, \n",
    "        initial_bit_depth, \n",
    "        influx_mode=influx_mode,\n",
    "        ComplexReservoirKickOffTime=300,\n",
    "        Id=\"ManualLoss\",\n",
    "        ManualInfluxLossMD=2505,\n",
    "        ManualInfluxLossMassRate= manual_influx_loss_mass_rate, \n",
    "        ManualInfluxLossTotalMass=manual_influx_loss_total_mass, \n",
    "        ManualReservoirMode=True,\n",
    "        UseReservoirModel=True\n",
    "    )\n",
    "    \n",
    "    sim.setpoints.SurfaceRPM = SurfaceRPM[0+current_simulation]\n",
    "    sim.setpoints.DesiredWOB = DesiredWOB[0+current_simulation]\n",
    "    sim.setpoints.FlowRateIn = FlowRateIn[0+current_simulation]\n",
    "    sim.setpoints.TopOfStringVelocity = 0.02 #m/s\n",
    "    sim.setpoints.DesiredROP = 0.02\n",
    "    values = {}\n",
    "    while timeStep <= endTime:\n",
    "\n",
    "        sim.step(timeStep) # stepping openlab\n",
    "        sim.get_results(timeStep, tags) # fetching results\n",
    "\n",
    "        for feature in tags:\n",
    "            # Skip \"Connection\" feature\n",
    "            if feature == \"Connection\":\n",
    "                continue\n",
    "            # Create the variable name for the current feature\n",
    "            var_name = f\"{feature}\"\n",
    "            # Extract the value of the feature at this time step\n",
    "            value_dict = eval(f\"sim.results.{var_name}\")\n",
    "            value = list(value_dict.values())[-1]  # Extract the value as a number\n",
    "            # Add the value to the dictionary\n",
    "            values[feature] = value\n",
    "\n",
    "        # Update other variables based on the current time step and simulation ID, and add them to the dictionary\n",
    "        values['timeStep'] = timeStep\n",
    "        values['sim_ID'] = sim_ID\n",
    "\n",
    "        # Append the dictionary to the dataframe\n",
    "        df = df.append(values, ignore_index=True)\n",
    "        print(df.tail(1))\n",
    "        clear_output(wait=True)\n",
    "        \n",
    "        # Increment the time step\n",
    "        timeStep += 1\n",
    "\n",
    "    # Print the entire dataframe after the inner while loop has completed\n",
    "    print(df)\n",
    "    \n",
    "    sim.stop()\n",
    "    timeStep = 1\n",
    "    current_simulation += 1\n",
    "\n",
    "print(\"All simulations completed.\")"
   ]
  },
  {
   "cell_type": "code",
   "execution_count": 13,
   "id": "09c3c2ef",
   "metadata": {},
   "outputs": [
    {
     "data": {
      "image/png": "[encoded data removed]",
      "text/plain": [
       "<Figure size 640x480 with 1 Axes>"
      ]
     },
     "metadata": {},
     "output_type": "display_data"
    }
   ],
   "source": [
    "# Extract the downhole pressure and timeStep from the df DataFrame\n",
    "downhole_pressure = df['DownholePressure']\n",
    "time_step = df['timeStep']\n",
    "\n",
    "# Create a line plot\n",
    "plt.plot(time_step, downhole_pressure)\n",
    "\n",
    "# Add labels and title\n",
    "plt.xlabel('Time (s)')\n",
    "plt.ylabel('Downhole Pressure (psi)')\n",
    "plt.title('Downhole Pressure vs Time')\n",
    "\n",
    "# Show the plot\n",
    "plt.show()\n"
   ]
  },
  {
   "cell_type": "code",
   "execution_count": 18,
   "id": "c646fd23",
   "metadata": {},
   "outputs": [],
   "source": [
    "# Save the results to a CSV file with a simulation identifier and current date and time\n",
    "simulation_id = \"loss\"\n",
    "current_time = datetime.datetime.now().strftime(\"%Y-%m-%d %H-%M\")\n",
    "file_name = f\"results_{simulation_id}_{current_time}.csv\"\n",
    "df.to_csv(file_name, index=False)"
   ]
  },
  {
   "cell_type": "code",
   "execution_count": 19,
   "id": "e7535311",
   "metadata": {},
   "outputs": [],
   "source": [
    "# specify the simulation identifier used to save the file\n",
    "simulation_id = \"loss\"\n",
    "\n",
    "# construct the file name of the CSV file to read\n",
    "current_time = datetime.datetime.now().strftime(\"%Y-%m-%d %H-%M\")\n",
    "file_name = f\"results_{simulation_id}_{current_time}.csv\"\n",
    "\n",
    "# read the CSV file into a pandas DataFrame\n",
    "df = pd.read_csv(file_name)\n",
    "\n",
    "# open the CSV file using the default program associated with CSV files\n",
    "if os.name == 'nt':  # for Windows\n",
    "    os.startfile(file_name)\n",
    "else:  # for Mac and Linux\n",
    "    subprocess.call(('open', file_name))\n"
   ]
  },
  {
   "cell_type": "code",
   "execution_count": 20,
   "id": "847c8e40",
   "metadata": {},
   "outputs": [
    {
     "data": {
      "text/plain": [
       "'results_loss_2023-03-15 13-30.csv'"
      ]
     },
     "execution_count": 20,
     "metadata": {},
     "output_type": "execute_result"
    }
   ],
   "source": [
    "file_name"
   ]
  },
  {
   "cell_type": "code",
   "execution_count": 21,
   "id": "bbccbee3",
   "metadata": {},
   "outputs": [
    {
     "name": "stdout",
     "output_type": "stream",
     "text": [
      "Stored 'df_loss' (DataFrame)\n"
     ]
    }
   ],
   "source": [
    "df_loss = df\n",
    "%store df_loss"
   ]
  }
 ],
 "metadata": {
  "kernelspec": {
   "display_name": "Python 3 (ipykernel)",
   "language": "python",
   "name": "python3"
  },
  "language_info": {
   "codemirror_mode": {
    "name": "ipython",
    "version": 3
   },
   "file_extension": ".py",
   "mimetype": "text/x-python",
   "name": "python",
   "nbconvert_exporter": "python",
   "pygments_lexer": "ipython3",
   "version": "3.8.2"
  }
 },
 "nbformat": 4,
 "nbformat_minor": 5
}
