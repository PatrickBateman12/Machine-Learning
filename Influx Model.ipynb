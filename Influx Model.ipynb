{
 "cells": [
  {
   "cell_type": "markdown",
   "id": "f603ab69",
   "metadata": {},
   "source": [
    "## Simulation with using influx or loss\n",
    "\n",
    "## 2500m inclined well"
   ]
  },
  {
   "cell_type": "code",
   "execution_count": 1,
   "id": "70de2b25",
   "metadata": {},
   "outputs": [],
   "source": [
    "import openlab\n",
    "import matplotlib.pyplot as plt\n",
    "import numpy as np\n",
    "import time\n",
    "import pandas as pd\n",
    "import time\n",
    "import random\n",
    "import pprint as pr\n",
    "from IPython.display import clear_output\n",
    "import datetime\n",
    "import os\n",
    "import subprocess"
   ]
  },
  {
   "cell_type": "code",
   "execution_count": 2,
   "id": "f443c71a",
   "metadata": {},
   "outputs": [],
   "source": [
    "# Warnings are provided to warn the developer of situations that aren’t necessarily exceptions. \n",
    "#Usually, a warning occurs when there is some obsolete of certain programming elements.\n",
    "#Python program terminates immediately if an error occurs. Conversely, a warning is not critical.\n",
    "\n",
    "import warnings\n",
    "warnings.filterwarnings('ignore')"
   ]
  },
  {
   "cell_type": "markdown",
   "id": "bbae60e6",
   "metadata": {},
   "source": [
    "### Logging in and creating session"
   ]
  },
  {
   "cell_type": "code",
   "execution_count": 3,
   "id": "e2b37096",
   "metadata": {},
   "outputs": [],
   "source": [
    "username=\"hh.kjolle@stud.uis.no\"\n",
    "apikey=\"8D44DA8C3A7BDC651D325F0476A2AB776938FE99D57050559EF951D33ABCCFAB\"\n",
    "licenseguid=\"c3a0315b-813c-4e0b-8ec9-e14436a1783d\""
   ]
  },
  {
   "cell_type": "code",
   "execution_count": 4,
   "id": "fd705772",
   "metadata": {
    "scrolled": true
   },
   "outputs": [
    {
     "name": "stderr",
     "output_type": "stream",
     "text": [
      "16:10:42 [INFO] Initializing Openlab http client\n",
      "16:10:42 [INFO] Creating token\n",
      "16:10:42 [INFO] Saving token\n",
      "16:10:42 [INFO] Login Succesfull\n"
     ]
    }
   ],
   "source": [
    "session = openlab.http_client(username=username, apikey=apikey,licenseguid=licenseguid) #this intializes an http client that can be used for an entire openlab session"
   ]
  },
  {
   "cell_type": "markdown",
   "id": "192e6258",
   "metadata": {},
   "source": [
    "### Simulation information"
   ]
  },
  {
   "cell_type": "code",
   "execution_count": 5,
   "id": "d7a6d5e9",
   "metadata": {},
   "outputs": [
    {
     "name": "stdout",
     "output_type": "stream",
     "text": [
      "There will be 1 simulations, lasting for 10 minutes, equalling to 600 timeSteps.\n"
     ]
    }
   ],
   "source": [
    "# each simulation lasts 2 minutes, and there are to be 98 simulations with varying setpoints.\n",
    "single_simulation_lenght = 10 #min\n",
    "total_simulation_length = 10/60 #hrs\n",
    "\n",
    "step_per_sim = single_simulation_lenght*60\n",
    "nr_sim = int(total_simulation_length*60/single_simulation_lenght)\n",
    "total_steps = nr_sim*step_per_sim\n",
    "\n",
    "print(f\"There will be {nr_sim} simulations, lasting for {single_simulation_lenght} minutes, equalling to {total_steps} timeSteps.\")"
   ]
  },
  {
   "cell_type": "markdown",
   "id": "d28c1d0d",
   "metadata": {},
   "source": [
    "### Manual Influx Model"
   ]
  },
  {
   "cell_type": "code",
   "execution_count": 6,
   "id": "9477b7e5",
   "metadata": {},
   "outputs": [],
   "source": [
    "sim_name = \"influx\"\n",
    "config_name = \"InclinedWell\"\n",
    "initial_bit_depth = 2500\n",
    "influx_mode = openlab.default_manual_influx"
   ]
  },
  {
   "cell_type": "markdown",
   "id": "0607827a",
   "metadata": {},
   "source": [
    "#### Starting simulation of manual influx model"
   ]
  },
  {
   "cell_type": "code",
   "execution_count": 7,
   "id": "23f1b127",
   "metadata": {
    "scrolled": false
   },
   "outputs": [
    {
     "name": "stderr",
     "output_type": "stream",
     "text": [
      "16:10:43 [INFO] User limits: {'ActiveSimulationCount': 5, 'MaxConcurrentSimulations': 5, 'MaxSimulationCount': 0, 'MaxStepCount': 180000, 'MaxStoredSimulations': 10, 'MaxTimeStep': 18000, 'TotalSimulationCount': 827, 'UsedCapacityPercent': 37, 'UsedStepCount': 66604}\n"
     ]
    },
    {
     "ename": "Exception",
     "evalue": "Max conccurent simulation capacity of 5 reached.\n\n                    Please stop/complete one of the running simulations to continue: \n\n                    {'8348f033-3550-4f82-bfcb-020950984c91', '2441846b-77c0-4598-a08e-1a3929368483', '3f61239e-996d-405e-b8f5-ee2c50776e48', '5be60c0b-d7e3-40b1-8d8d-7f4c72b8e4b7', '9af3877a-8f8e-4205-a91f-6cf49d371ad4'} \n\n                    Or visit https://openlab.app to upgrade your account and get more conccurent simulation capacity.\n                    ",
     "output_type": "error",
     "traceback": [
      "\u001b[0;31m---------------------------------------------------------------------------\u001b[0m",
      "\u001b[0;31mException\u001b[0m                                 Traceback (most recent call last)",
      "Cell \u001b[0;32mIn[7], line 4\u001b[0m\n\u001b[1;32m      1\u001b[0m manual_influx_loss_mass_rate \u001b[38;5;241m=\u001b[39m random\u001b[38;5;241m.\u001b[39mrandint(\u001b[38;5;241m0\u001b[39m, \u001b[38;5;241m4999\u001b[39m) \u001b[38;5;241m/\u001b[39m \u001b[38;5;241m60\u001b[39m\n\u001b[1;32m      2\u001b[0m manual_influx_loss_total_mass \u001b[38;5;241m=\u001b[39m random\u001b[38;5;241m.\u001b[39mrandint(\u001b[38;5;241m0\u001b[39m, \u001b[38;5;241m5000\u001b[39m)\n\u001b[0;32m----> 4\u001b[0m sim \u001b[38;5;241m=\u001b[39m \u001b[43msession\u001b[49m\u001b[38;5;241;43m.\u001b[39;49m\u001b[43mcreate_simulation\u001b[49m\u001b[43m(\u001b[49m\n\u001b[1;32m      5\u001b[0m \u001b[43m    \u001b[49m\u001b[43mconfig_name\u001b[49m\u001b[43m,\u001b[49m\u001b[43m \u001b[49m\u001b[43msim_name\u001b[49m\u001b[43m,\u001b[49m\u001b[43m \u001b[49m\n\u001b[1;32m      6\u001b[0m \u001b[43m    \u001b[49m\u001b[43minitial_bit_depth\u001b[49m\u001b[43m,\u001b[49m\u001b[43m \u001b[49m\n\u001b[1;32m      7\u001b[0m \u001b[43m    \u001b[49m\u001b[43minflux_mode\u001b[49m\u001b[38;5;241;43m=\u001b[39;49m\u001b[43minflux_mode\u001b[49m\u001b[43m,\u001b[49m\u001b[43m \u001b[49m\n\u001b[1;32m      8\u001b[0m \u001b[43m    \u001b[49m\u001b[43mComplexReservoirKickOffTime\u001b[49m\u001b[38;5;241;43m=\u001b[39;49m\u001b[38;5;241;43m300\u001b[39;49m\u001b[43m,\u001b[49m\u001b[43m \u001b[49m\n\u001b[1;32m      9\u001b[0m \u001b[43m    \u001b[49m\u001b[43mId\u001b[49m\u001b[38;5;241;43m=\u001b[39;49m\u001b[38;5;124;43m\"\u001b[39;49m\u001b[38;5;124;43mManualInflux\u001b[39;49m\u001b[38;5;124;43m\"\u001b[39;49m\u001b[43m,\u001b[49m\u001b[43m \u001b[49m\n\u001b[1;32m     10\u001b[0m \u001b[43m    \u001b[49m\u001b[43mManualInfluxLossMD\u001b[49m\u001b[38;5;241;43m=\u001b[39;49m\u001b[38;5;241;43m2505\u001b[39;49m\u001b[43m,\u001b[49m\u001b[43m \u001b[49m\n\u001b[1;32m     11\u001b[0m \u001b[43m    \u001b[49m\u001b[43mManualInfluxLossMassRate\u001b[49m\u001b[38;5;241;43m=\u001b[39;49m\u001b[43mmanual_influx_loss_mass_rate\u001b[49m\u001b[43m,\u001b[49m\u001b[43m \u001b[49m\u001b[38;5;66;43;03m#Max = 4999 kg/min\u001b[39;49;00m\n\u001b[1;32m     12\u001b[0m \u001b[43m    \u001b[49m\u001b[43mManualInfluxLossTotalMass\u001b[49m\u001b[38;5;241;43m=\u001b[39;49m\u001b[43mmanual_influx_loss_total_mass\u001b[49m\u001b[43m,\u001b[49m\u001b[43m \u001b[49m\u001b[38;5;66;43;03m#Max = 5000 kg\u001b[39;49;00m\n\u001b[1;32m     13\u001b[0m \u001b[43m    \u001b[49m\u001b[43mManualReservoirMode\u001b[49m\u001b[38;5;241;43m=\u001b[39;49m\u001b[38;5;28;43;01mTrue\u001b[39;49;00m\u001b[43m,\u001b[49m\u001b[43m \u001b[49m\n\u001b[1;32m     14\u001b[0m \u001b[43m    \u001b[49m\u001b[43mUseReservoirModel\u001b[49m\u001b[38;5;241;43m=\u001b[39;49m\u001b[38;5;28;43;01mTrue\u001b[39;49;00m\n\u001b[1;32m     15\u001b[0m \u001b[43m)\u001b[49m\n",
      "File \u001b[0;32m~/Desktop/bachelor/python/tutorial/openlab-env/lib/python3.8/site-packages/openlab/__init__.py:491\u001b[0m, in \u001b[0;36mhttp_client.create_simulation\u001b[0;34m(self, config_name, sim_name, initial_bit_depth, **kwargs)\u001b[0m\n\u001b[1;32m    489\u001b[0m             active_simulations\u001b[38;5;241m.\u001b[39madd(sim[\u001b[38;5;124m'\u001b[39m\u001b[38;5;124mSimulationID\u001b[39m\u001b[38;5;124m'\u001b[39m])\n\u001b[1;32m    490\u001b[0m     \u001b[38;5;28;01mif\u001b[39;00m \u001b[38;5;28mlen\u001b[39m(active_simulations) \u001b[38;5;241m>\u001b[39m\u001b[38;5;241m=\u001b[39m simulation_capacity:\n\u001b[0;32m--> 491\u001b[0m         \u001b[38;5;28;01mraise\u001b[39;00m \u001b[38;5;167;01mException\u001b[39;00m(\n\u001b[1;32m    492\u001b[0m \u001b[38;5;250m            \u001b[39m\u001b[38;5;124;03m\"\"\"Max conccurent simulation capacity of {} reached.\\n\u001b[39;00m\n\u001b[1;32m    493\u001b[0m \u001b[38;5;124;03m            Please stop/complete one of the running simulations to continue: \\n\u001b[39;00m\n\u001b[1;32m    494\u001b[0m \u001b[38;5;124;03m            {} \\n\u001b[39;00m\n\u001b[1;32m    495\u001b[0m \u001b[38;5;124;03m            Or visit https://openlab.app to upgrade your account and get more conccurent simulation capacity.\u001b[39;00m\n\u001b[1;32m    496\u001b[0m \u001b[38;5;124;03m            \"\"\"\u001b[39;00m\u001b[38;5;241m.\u001b[39mformat(simulation_capacity, active_simulations))\n\u001b[1;32m    498\u001b[0m \u001b[38;5;66;03m# format the data to send web_client\u001b[39;00m\n\u001b[1;32m    499\u001b[0m simulation\u001b[38;5;241m=\u001b[39m \u001b[38;5;28mself\u001b[39m\u001b[38;5;241m.\u001b[39mformat_simulation_meta_data(\u001b[38;5;28mself\u001b[39m, sim_id, config_id, sim_name,initial_bit_depth, influx_type\u001b[38;5;241m=\u001b[39minflux_type, \u001b[38;5;241m*\u001b[39m\u001b[38;5;241m*\u001b[39mkwargs)\n",
      "\u001b[0;31mException\u001b[0m: Max conccurent simulation capacity of 5 reached.\n\n                    Please stop/complete one of the running simulations to continue: \n\n                    {'8348f033-3550-4f82-bfcb-020950984c91', '2441846b-77c0-4598-a08e-1a3929368483', '3f61239e-996d-405e-b8f5-ee2c50776e48', '5be60c0b-d7e3-40b1-8d8d-7f4c72b8e4b7', '9af3877a-8f8e-4205-a91f-6cf49d371ad4'} \n\n                    Or visit https://openlab.app to upgrade your account and get more conccurent simulation capacity.\n                    "
     ]
    }
   ],
   "source": [
    "manual_influx_loss_mass_rate = random.randint(0, 4999) / 60\n",
    "manual_influx_loss_total_mass = random.randint(0, 5000)\n",
    "\n",
    "sim = session.create_simulation(\n",
    "    config_name, sim_name, \n",
    "    initial_bit_depth, \n",
    "    influx_mode=influx_mode, \n",
    "    ComplexReservoirKickOffTime=300, \n",
    "    Id=\"ManualInflux\", \n",
    "    ManualInfluxLossMD=2505, \n",
    "    ManualInfluxLossMassRate=manual_influx_loss_mass_rate, #Max = 4999 kg/min\n",
    "    ManualInfluxLossTotalMass=manual_influx_loss_total_mass, #Max = 5000 kg\n",
    "    ManualReservoirMode=True, \n",
    "    UseReservoirModel=True\n",
    ")\n"
   ]
  },
  {
   "cell_type": "markdown",
   "id": "3059ae29",
   "metadata": {},
   "source": [
    "### Unit Converter"
   ]
  },
  {
   "cell_type": "code",
   "execution_count": null,
   "id": "0f865576",
   "metadata": {},
   "outputs": [],
   "source": [
    "FLOW_UNIT_CONV_FACTOR= 1.66666667 * 0.00001#float(\"10e-5\") # l/min --> m^3/s\n",
    "PRESSURE_CONV_FACTOR= 100000.0 # float(\"10e5\") # bar-->pascal\n",
    "WEIGHT_CONV_FACTOR = 0.001 # float (\"10e3\") # kg to tons"
   ]
  },
  {
   "cell_type": "code",
   "execution_count": null,
   "id": "1a89f5c0",
   "metadata": {},
   "outputs": [],
   "source": [
    "# variable setpoints\n",
    "# random lists\n",
    "SurfaceRPM = [random.randint(0, 220) for _ in range(nr_sim)]\n",
    "SurfaceRPM = [rpm/60 for rpm in SurfaceRPM]\n",
    "\n",
    "DesiredWOB = [random.randint(0, 40) for _ in range(nr_sim)]\n",
    "DesiredWOB = [wob*1000 for wob in DesiredWOB]\n",
    "\n",
    "FlowRateIn = [random.randint(0, 3000) for _ in range(nr_sim)]\n",
    "FlowRateIn = [flow_rate/60000 for flow_rate in FlowRateIn]"
   ]
  },
  {
   "cell_type": "markdown",
   "id": "511afac8",
   "metadata": {},
   "source": [
    "### Results which are relevant"
   ]
  },
  {
   "cell_type": "code",
   "execution_count": null,
   "id": "c964dae9",
   "metadata": {},
   "outputs": [],
   "source": [
    "# dataframe and tags stuff\n",
    "tags = ['SPP', 'DownholeECD', 'FlowRateOut', 'HookLoad', 'SurfaceTorque', 'BitDepth', 'TD', 'ChokeOpening', 'DownholePressure', 'ChokePressure', 'FluidTemperatureOut', 'WOB', 'InstantaneousROP', 'FlowRateIn', 'TopOfStringVelocity', 'SurfaceRPM', 'DrillstringTemperature', 'TotalInfluxMass', 'CalculatedPressureBottomHole', 'CuttingsMassFractionTransient', 'FluidTemperatureIn', 'AnnulusECD', 'AnnulusTemperature', 'DrillstringTension', 'AnnulusFluidVelocity', 'DrillstringFluidVelocity', 'CuttingsBedHeight', 'AnnulusDensity', 'DrillstringTorque', 'TotalMudLossMass', 'TopOfStringPosition', 'ActivePitVolume', 'ActivePitDensity', 'ActivePitTemperature', 'MainPitVolume', 'MainPitDensity', 'MainPitTemperature', 'ReservePitVolume', 'ReservePitDensity', 'ReservePitTemperature']\n",
    "ID = [\"sim_ID\", \"timeStep\"]\n",
    "columns = tags + ID\n",
    "\n",
    "\n",
    "df = pd.DataFrame(columns=columns)"
   ]
  },
  {
   "cell_type": "markdown",
   "id": "f0803d1b",
   "metadata": {},
   "source": [
    "### Running through the simulations"
   ]
  },
  {
   "cell_type": "code",
   "execution_count": null,
   "id": "930f3445",
   "metadata": {},
   "outputs": [],
   "source": [
    "startTime = 1\n",
    "endTime = single_simulation_lenght*60\n",
    "\n",
    "timeStep = 1\n",
    "current_simulation = 0\n",
    "\n",
    "sim.stop()\n",
    "\n",
    "while current_simulation < nr_sim:\n",
    "    \n",
    "    print(f\"Simulation {current_simulation + 1}/{nr_sim}\")\n",
    "    \n",
    "    sim_ID = current_simulation\n",
    "    \n",
    "    manual_influx_loss_mass_rate = random.randint(0, 4999) / 60\n",
    "    manual_influx_loss_total_mass = random.randint(0, 5000)\n",
    "\n",
    "    sim = session.create_simulation(\n",
    "        config_name, sim_name, \n",
    "        initial_bit_depth, \n",
    "        influx_mode=influx_mode, \n",
    "        ComplexReservoirKickOffTime=300, \n",
    "        Id=\"ManualInflux\", \n",
    "        ManualInfluxLossMD=2505, \n",
    "        ManualInfluxLossMassRate=manual_influx_loss_mass_rate, #Max = 4999 kg/min\n",
    "        ManualInfluxLossTotalMass=manual_influx_loss_total_mass, #Max = 5000 kg\n",
    "        ManualReservoirMode=True, \n",
    "        UseReservoirModel=True\n",
    "    )\n",
    "    \n",
    "    sim.setpoints.SurfaceRPM = SurfaceRPM[0+current_simulation]\n",
    "    sim.setpoints.DesiredWOB = DesiredWOB[0+current_simulation]\n",
    "    sim.setpoints.FlowRateIn = FlowRateIn[0+current_simulation]\n",
    "    sim.setpoints.TopOfStringVelocity = 0.02 #m/s\n",
    "    sim.setpoints.DesiredROP = 0.02\n",
    "    values = {}\n",
    "    while timeStep <= endTime:\n",
    "\n",
    "        sim.step(timeStep) # stepping openlab\n",
    "        sim.get_results(timeStep, tags) # fetching results\n",
    "\n",
    "        for feature in tags:\n",
    "            # Skip \"Connection\" feature\n",
    "            if feature == \"Connection\":\n",
    "                continue\n",
    "            # Create the variable name for the current feature\n",
    "            var_name = f\"{feature}\"\n",
    "            # Extract the value of the feature at this time step\n",
    "            value_dict = eval(f\"sim.results.{var_name}\")\n",
    "            value = list(value_dict.values())[-1]  # Extract the value as a number\n",
    "            # Add the value to the dictionary\n",
    "            values[feature] = value\n",
    "\n",
    "        # Update other variables based on the current time step and simulation ID, and add them to the dictionary\n",
    "        values['timeStep'] = timeStep\n",
    "        values['sim_ID'] = sim_ID\n",
    "\n",
    "        # Append the dictionary to the dataframe\n",
    "        df = df.append(values, ignore_index=True)\n",
    "        print(df.tail(1))\n",
    "        clear_output(wait=True)\n",
    "        \n",
    "        # Increment the time step\n",
    "        timeStep += 1\n",
    "\n",
    "    # Print the entire dataframe after the inner while loop has completed\n",
    "    print(df)\n",
    "    \n",
    "    sim.stop()\n",
    "    timeStep = 1\n",
    "    current_simulation += 1\n",
    "\n",
    "print(\"All simulations completed.\")"
   ]
  },
  {
   "cell_type": "code",
   "execution_count": null,
   "id": "09c3c2ef",
   "metadata": {},
   "outputs": [],
   "source": [
    "# Extract the downhole pressure and timeStep from the df DataFrame\n",
    "downhole_pressure = df['DownholePressure']\n",
    "time_step = df['timeStep']\n",
    "\n",
    "# Create a line plot\n",
    "plt.plot(time_step, downhole_pressure)\n",
    "\n",
    "# Add labels and title\n",
    "plt.xlabel('Time (s)')\n",
    "plt.ylabel('Downhole Pressure (psi)')\n",
    "plt.title('Downhole Pressure vs Time')\n",
    "\n",
    "# Show the plot\n",
    "plt.show()\n"
   ]
  },
  {
   "cell_type": "code",
   "execution_count": null,
   "id": "c646fd23",
   "metadata": {},
   "outputs": [],
   "source": [
    "# Save the results to a CSV file with a simulation identifier and current date and time\n",
    "simulation_id = \"influx\"\n",
    "current_time = datetime.datetime.now().strftime(\"%Y-%m-%d %H-%M\")\n",
    "file_name = f\"results_{simulation_id}_{current_time}.csv\"\n",
    "df.to_csv(file_name, index=False)"
   ]
  },
  {
   "cell_type": "code",
   "execution_count": null,
   "id": "e7535311",
   "metadata": {},
   "outputs": [],
   "source": [
    "# specify the simulation identifier used to save the file\n",
    "simulation_id = \"influx\"\n",
    "\n",
    "# construct the file name of the CSV file to read\n",
    "current_time = datetime.datetime.now().strftime(\"%Y-%m-%d %H-%M\")\n",
    "file_name = f\"results_{simulation_id}_{current_time}.csv\"\n",
    "\n",
    "# read the CSV file into a pandas DataFrame\n",
    "df = pd.read_csv(file_name)\n",
    "\n",
    "# open the CSV file using the default program associated with CSV files\n",
    "if os.name == 'nt':  # for Windows\n",
    "    os.startfile(file_name)\n",
    "else:  # for Mac and Linux\n",
    "    subprocess.call(('open', file_name))\n"
   ]
  },
  {
   "cell_type": "code",
   "execution_count": null,
   "id": "847c8e40",
   "metadata": {},
   "outputs": [],
   "source": [
    "df_influx = df\n",
    "%store df_influx"
   ]
  },
  {
   "cell_type": "code",
   "execution_count": null,
   "id": "67419787",
   "metadata": {},
   "outputs": [],
   "source": [
    "file_name"
   ]
  },
  {
   "cell_type": "code",
   "execution_count": null,
   "id": "6a81f6ec",
   "metadata": {},
   "outputs": [],
   "source": []
  }
 ],
 "metadata": {
  "kernelspec": {
   "display_name": "Python 3 (ipykernel)",
   "language": "python",
   "name": "python3"
  },
  "language_info": {
   "codemirror_mode": {
    "name": "ipython",
    "version": 3
   },
   "file_extension": ".py",
   "mimetype": "text/x-python",
   "name": "python",
   "nbconvert_exporter": "python",
   "pygments_lexer": "ipython3",
   "version": "3.8.2"
  }
 },
 "nbformat": 4,
 "nbformat_minor": 5
}
