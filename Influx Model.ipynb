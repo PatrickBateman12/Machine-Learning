{
 "cells": [
  {
   "cell_type": "markdown",
   "id": "f603ab69",
   "metadata": {},
   "source": [
    "## Simulation with using influx\n",
    "\n",
    "## 2500m inclined well"
   ]
  },
  {
   "cell_type": "code",
   "execution_count": null,
   "id": "70de2b25",
   "metadata": {},
   "outputs": [],
   "source": [
    "import openlab\n",
    "import matplotlib.pyplot as plt\n",
    "import numpy as np\n",
    "import time\n",
    "import pandas as pd\n",
    "import time\n",
    "import random\n",
    "import pprint as pr\n",
    "from IPython.display import clear_output\n",
    "import datetime\n",
    "import os\n",
    "import subprocess"
   ]
  },
  {
   "cell_type": "code",
   "execution_count": null,
   "id": "f443c71a",
   "metadata": {},
   "outputs": [],
   "source": [
    "# Warnings are provided to warn the developer of situations that aren’t necessarily exceptions. \n",
    "#Usually, a warning occurs when there is some obsolete of certain programming elements.\n",
    "#Python program terminates immediately if an error occurs. Conversely, a warning is not critical.\n",
    "\n",
    "import warnings\n",
    "warnings.filterwarnings('ignore')"
   ]
  },
  {
   "cell_type": "markdown",
   "id": "bbae60e6",
   "metadata": {},
   "source": [
    "### Logging in and creating session"
   ]
  },
  {
   "cell_type": "code",
   "execution_count": null,
   "id": "e2b37096",
   "metadata": {},
   "outputs": [],
   "source": [
    "username=\"\"\n",
    "apikey=\"\"\n",
    "licenseguid=\"\""
   ]
  },
  {
   "cell_type": "code",
   "execution_count": null,
   "id": "fd705772",
   "metadata": {
    "scrolled": true
   },
   "outputs": [],
   "source": [
    "session = openlab.http_client(username=username, apikey=apikey,licenseguid=licenseguid) #this intializes an http client that can be used for an entire openlab session"
   ]
  },
  {
   "cell_type": "markdown",
   "id": "192e6258",
   "metadata": {},
   "source": [
    "### Simulation information"
   ]
  },
  {
   "cell_type": "code",
   "execution_count": null,
   "id": "d7a6d5e9",
   "metadata": {},
   "outputs": [],
   "source": [
    "# each simulation lasts 2 minutes, and there are to be 98 simulations with varying setpoints.\n",
    "single_simulation_lenght = 10 #min\n",
    "total_simulation_length = 10/60 #hrs\n",
    "\n",
    "step_per_sim = single_simulation_lenght*60\n",
    "nr_sim = int(total_simulation_length*60/single_simulation_lenght)\n",
    "total_steps = nr_sim*step_per_sim\n",
    "\n",
    "print(f\"There will be {nr_sim} simulations, lasting for {single_simulation_lenght} minutes, equalling to {total_steps} timeSteps.\")"
   ]
  },
  {
   "cell_type": "markdown",
   "id": "d28c1d0d",
   "metadata": {},
   "source": [
    "### Manual Influx Model"
   ]
  },
  {
   "cell_type": "code",
   "execution_count": null,
   "id": "9477b7e5",
   "metadata": {},
   "outputs": [],
   "source": [
    "sim_name = \"influx_validation\"\n",
    "config_name = \"InclinedWell\"\n",
    "initial_bit_depth = 2500\n",
    "influx_mode = openlab.default_manual_influx"
   ]
  },
  {
   "cell_type": "markdown",
   "id": "0607827a",
   "metadata": {},
   "source": [
    "#### Starting simulation of manual influx model"
   ]
  },
  {
   "cell_type": "code",
   "execution_count": null,
   "id": "23f1b127",
   "metadata": {
    "scrolled": false
   },
   "outputs": [],
   "source": [
    "manual_influx_loss_mass_rate = random.randint(0, 500) / 60\n",
    "manual_influx_loss_total_mass = random.randint(0, 2000)\n",
    "\n",
    "sim = session.create_simulation(\n",
    "    config_name, sim_name, \n",
    "    initial_bit_depth, \n",
    "    influx_mode=influx_mode, \n",
    "    ComplexReservoirKickOffTime=300, \n",
    "    Id=\"ManualInflux\", \n",
    "    ManualInfluxLossMD=2505, \n",
    "    ManualInfluxLossMassRate=manual_influx_loss_mass_rate, #Max = 4999 kg/min\n",
    "    ManualInfluxLossTotalMass=manual_influx_loss_total_mass, #Max = 5000 kg\n",
    "    ManualReservoirMode=True, \n",
    "    UseReservoirModel=True\n",
    ")\n"
   ]
  },
  {
   "cell_type": "markdown",
   "id": "3059ae29",
   "metadata": {},
   "source": [
    "### Unit Converter"
   ]
  },
  {
   "cell_type": "code",
   "execution_count": null,
   "id": "0f865576",
   "metadata": {},
   "outputs": [],
   "source": [
    "FLOW_UNIT_CONV_FACTOR= 1.66666667 * 0.00001#float(\"10e-5\") # l/min --> m^3/s\n",
    "PRESSURE_CONV_FACTOR= 100000.0 # float(\"10e5\") # bar-->pascal\n",
    "WEIGHT_CONV_FACTOR = 0.001 # float (\"10e3\") # kg to tons"
   ]
  },
  {
   "cell_type": "code",
   "execution_count": null,
   "id": "34d244a1",
   "metadata": {},
   "outputs": [],
   "source": [
    "print(openlab.setpoints.all_setpoints())"
   ]
  },
  {
   "cell_type": "code",
   "execution_count": null,
   "id": "1a89f5c0",
   "metadata": {},
   "outputs": [],
   "source": [
    "# variable setpoints\n",
    "# random lists\n",
    "SurfaceRPM = [random.randint(0, 220) for _ in range(nr_sim)]\n",
    "SurfaceRPM = [rpm/60 for rpm in SurfaceRPM]\n",
    "\n",
    "DesiredWOB = [random.randint(0, 40) for _ in range(nr_sim)]\n",
    "DesiredWOB = [wob*1000 for wob in DesiredWOB]\n",
    "\n",
    "FlowRateIn = [random.randint(0, 3000) for _ in range(nr_sim)]\n",
    "FlowRateIn = [flow_rate/60000 for flow_rate in FlowRateIn]"
   ]
  },
  {
   "cell_type": "markdown",
   "id": "511afac8",
   "metadata": {},
   "source": [
    "### Results which are relevant"
   ]
  },
  {
   "cell_type": "code",
   "execution_count": null,
   "id": "99fe9d7d",
   "metadata": {},
   "outputs": [],
   "source": [
    "print(openlab.results.all_results())"
   ]
  },
  {
   "cell_type": "code",
   "execution_count": null,
   "id": "c964dae9",
   "metadata": {},
   "outputs": [],
   "source": [
    "# dataframe and tags stuff\n",
    "tags = ['SPP', 'DownholeECD', 'FlowRateOut', 'HookLoad', 'SurfaceTorque', 'BitDepth', 'ChokeOpening', 'DownholePressure', 'ChokePressure', 'FluidTemperatureOut', 'WOB', 'InstantaneousROP', 'BopChokeOpening', 'FlowRateIn', 'TopOfStringVelocity', 'SurfaceRPM', 'ChokePumpFlowRateIn', 'DrillstringTemperature', 'TotalInfluxMass', 'CalculatedPressureBottomHole', 'CuttingsMassFractionTransient', 'GasVolumeFraction', 'DrillstringBucklingLimit', 'FluidTemperatureIn', 'AnnulusECD', 'DrillstringTorqueLimit', 'AnnulusTemperature', 'DrillstringTension', 'AnnulusFluidVelocity', 'DrillstringFluidVelocity', 'AnnulusDensity', 'DrillstringTorque', 'TotalMudLossMass', 'TopOfStringPosition', 'ActivePitVolume', 'ActivePitDensity', 'ActivePitTemperature', 'MainPitVolume', 'MainPitDensity', 'MainPitTemperature', 'GasFlowRateOut', 'DrillstringDensity']\n",
    "ID = [\"sim_ID\", \"timeStep\"]\n",
    "columns = tags + ID\n",
    "\n",
    "\n",
    "df = pd.DataFrame(columns=columns)"
   ]
  },
  {
   "cell_type": "markdown",
   "id": "f0803d1b",
   "metadata": {},
   "source": [
    "### Running through the simulations"
   ]
  },
  {
   "cell_type": "code",
   "execution_count": null,
   "id": "930f3445",
   "metadata": {},
   "outputs": [],
   "source": [
    "startTime = 1\n",
    "endTime = single_simulation_lenght*60\n",
    "\n",
    "timeStep = 1\n",
    "current_simulation = 0\n",
    "\n",
    "sim.stop()\n",
    "\n",
    "while current_simulation < nr_sim:\n",
    "    \n",
    "    print(f\"Simulation {current_simulation + 1}/{nr_sim}\")\n",
    "    \n",
    "    sim_ID = current_simulation\n",
    "    \n",
    "    manual_influx_loss_mass_rate = random.randint(0, 500) / 60\n",
    "    manual_influx_loss_total_mass = random.randint(0, 2000)\n",
    "\n",
    "    sim = session.create_simulation(\n",
    "        config_name, sim_name, \n",
    "        initial_bit_depth, \n",
    "        influx_mode=influx_mode, \n",
    "        ComplexReservoirKickOffTime=300, \n",
    "        Id=\"ManualInflux\", \n",
    "        ManualInfluxLossMD=2505, \n",
    "        ManualInfluxLossMassRate=manual_influx_loss_mass_rate, #Max = 4999 kg/min\n",
    "        ManualInfluxLossTotalMass=manual_influx_loss_total_mass, #Max = 5000 kg\n",
    "        ManualReservoirMode=True, \n",
    "        UseReservoirModel=True\n",
    "    )\n",
    "    \n",
    "    sim.setpoints.SurfaceRPM = SurfaceRPM[0+current_simulation]\n",
    "    sim.setpoints.DesiredWOB = DesiredWOB[0+current_simulation]\n",
    "    sim.setpoints.FlowRateIn = FlowRateIn[0+current_simulation]\n",
    "    sim.setpoints.TopOfStringVelocity = 0.02 #m/s\n",
    "    sim.setpoints.DesiredROP = 0.02\n",
    "    values = {}\n",
    "    while timeStep <= endTime:\n",
    "\n",
    "        sim.step(timeStep) # stepping openlab\n",
    "        sim.get_results(timeStep, tags) # fetching results\n",
    "\n",
    "        for feature in tags:\n",
    "            # Skip \"Connection\" feature\n",
    "            if feature == \"Connection\":\n",
    "                continue\n",
    "            # Create the variable name for the current feature\n",
    "            var_name = f\"{feature}\"\n",
    "            # Extract the value of the feature at this time step\n",
    "            value_dict = eval(f\"sim.results.{var_name}\")\n",
    "            value = list(value_dict.values())[-1]  # Extract the value as a number\n",
    "            # Add the value to the dictionary\n",
    "            values[feature] = value\n",
    "\n",
    "        # Update other variables based on the current time step and simulation ID, and add them to the dictionary\n",
    "        values['timeStep'] = timeStep\n",
    "        values['sim_ID'] = sim_ID\n",
    "\n",
    "        # Append the dictionary to the dataframe\n",
    "        df = df.append(values, ignore_index=True)\n",
    "        print(df.tail(1))\n",
    "        clear_output(wait=True)\n",
    "        \n",
    "        # Increment the time step\n",
    "        timeStep += 1\n",
    "\n",
    "    # Print the entire dataframe after the inner while loop has completed\n",
    "    print(df)\n",
    "    \n",
    "    sim.stop()\n",
    "    timeStep = 1\n",
    "    current_simulation += 1\n",
    "\n",
    "print(\"All simulations completed.\")"
   ]
  },
  {
   "cell_type": "markdown",
   "id": "0b591a61",
   "metadata": {},
   "source": [
    "### A plot to see that the DownholePressure graph is as it should be"
   ]
  },
  {
   "cell_type": "code",
   "execution_count": null,
   "id": "09c3c2ef",
   "metadata": {},
   "outputs": [],
   "source": [
    "# Extract the downhole pressure and timeStep from the df DataFrame\n",
    "downhole_pressure = df['DownholePressure']\n",
    "time_step = df['timeStep']\n",
    "\n",
    "# Create a line plot\n",
    "plt.plot(time_step, downhole_pressure)\n",
    "\n",
    "# Add labels and title\n",
    "plt.xlabel('Time (s)')\n",
    "plt.ylabel('Downhole Pressure (psi)')\n",
    "plt.title('Downhole Pressure vs Time')\n",
    "\n",
    "# Show the plot\n",
    "plt.show()\n"
   ]
  },
  {
   "cell_type": "markdown",
   "id": "837c2540",
   "metadata": {},
   "source": [
    "### Saving the df to a csv file, change to your folder directory"
   ]
  },
  {
   "cell_type": "code",
   "execution_count": null,
   "id": "c646fd23",
   "metadata": {},
   "outputs": [],
   "source": [
    "# specify the full path to the folder where the file is saved\n",
    "folder_path = r\"C:\n",
    "\n",
    "# specify the simulation identifier used to save the file\n",
    "simulation_id = \"influx_validation\"\n",
    "\n",
    "# specify the current date and time as a string\n",
    "current_time = datetime.datetime.now().strftime(\"%Y-%m-%d_%H-%M-%S\")\n",
    "\n",
    "# create the folder if it does not exist\n",
    "os.makedirs(folder_path, exist_ok=True)\n",
    "\n",
    "# construct the full path to the CSV file to write\n",
    "file_name = f\"results_{simulation_id}_{current_time}.csv\"\n",
    "file_path = os.path.join(folder_path, file_name)\n",
    "\n",
    "# write the DataFrame to a CSV file\n",
    "df.to_csv(file_path, index=False)\n",
    "\n",
    "# read the CSV file into a pandas DataFrame\n",
    "df = pd.read_csv(file_path)\n",
    "\n",
    "# open the CSV file using the default program associated with CSV files\n",
    "if os.name == 'nt':  # for Windows\n",
    "    os.startfile(file_path)\n",
    "else:  # for Mac and Linux\n",
    "    subprocess.call(('open', file_path))"
   ]
  }
 ],
 "metadata": {
  "kernelspec": {
   "display_name": "Python 3 (ipykernel)",
   "language": "python",
   "name": "python3"
  },
  "language_info": {
   "codemirror_mode": {
    "name": "ipython",
    "version": 3
   },
   "file_extension": ".py",
   "mimetype": "text/x-python",
   "name": "python",
   "nbconvert_exporter": "python",
   "pygments_lexer": "ipython3",
   "version": "3.8.2"
  }
 },
 "nbformat": 4,
 "nbformat_minor": 5
}
